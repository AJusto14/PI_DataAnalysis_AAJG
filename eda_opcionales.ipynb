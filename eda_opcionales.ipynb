{
 "cells": [
  {
   "attachments": {},
   "cell_type": "markdown",
   "metadata": {},
   "source": [
    "# Radio"
   ]
  },
  {
   "cell_type": "code",
   "execution_count": 1,
   "metadata": {},
   "outputs": [],
   "source": [
    "import pandas as pd"
   ]
  },
  {
   "attachments": {},
   "cell_type": "markdown",
   "metadata": {},
   "source": [
    "#### Estaciones Repetidoras"
   ]
  },
  {
   "cell_type": "code",
   "execution_count": 2,
   "metadata": {},
   "outputs": [],
   "source": [
    "est_repetidoras = pd.read_csv('/Volumes/KINGSTON/Henry/Proyecto 2/PI_DA/Datasets/Opcionales/Espectro Radioeléctrico (Radio)/EstacionesRepetidoras_20220126.csv')"
   ]
  },
  {
   "cell_type": "code",
   "execution_count": 3,
   "metadata": {},
   "outputs": [
    {
     "data": {
      "text/html": [
       "<div>\n",
       "<style scoped>\n",
       "    .dataframe tbody tr th:only-of-type {\n",
       "        vertical-align: middle;\n",
       "    }\n",
       "\n",
       "    .dataframe tbody tr th {\n",
       "        vertical-align: top;\n",
       "    }\n",
       "\n",
       "    .dataframe thead th {\n",
       "        text-align: right;\n",
       "    }\n",
       "</style>\n",
       "<table border=\"1\" class=\"dataframe\">\n",
       "  <thead>\n",
       "    <tr style=\"text-align: right;\">\n",
       "      <th></th>\n",
       "      <th>Frecuencia de Salida [MHz]</th>\n",
       "      <th>Frecuencia de Entrada [MHz]</th>\n",
       "      <th>Diferencia en Frecuencia [MHz]</th>\n",
       "      <th>Subtono [Hz]</th>\n",
       "      <th>Usa Subtono</th>\n",
       "      <th>Localidad</th>\n",
       "      <th>Provincia</th>\n",
       "      <th>Señal Distintiva</th>\n",
       "      <th>Radioclub</th>\n",
       "      <th>CUIT</th>\n",
       "      <th>Vencimiento</th>\n",
       "    </tr>\n",
       "  </thead>\n",
       "  <tbody>\n",
       "    <tr>\n",
       "      <th>0</th>\n",
       "      <td>29,67</td>\n",
       "      <td>29,57</td>\n",
       "      <td>-0,1</td>\n",
       "      <td>0</td>\n",
       "      <td>NaN</td>\n",
       "      <td>CORDOBA</td>\n",
       "      <td>CORDOBA</td>\n",
       "      <td>LU4HH</td>\n",
       "      <td>RADIO CLUB CORDOBA</td>\n",
       "      <td>30660960925</td>\n",
       "      <td>6/12/2023</td>\n",
       "    </tr>\n",
       "    <tr>\n",
       "      <th>1</th>\n",
       "      <td>53,7</td>\n",
       "      <td>52,7</td>\n",
       "      <td>-1</td>\n",
       "      <td>67</td>\n",
       "      <td>NaN</td>\n",
       "      <td>CABA</td>\n",
       "      <td>CABA</td>\n",
       "      <td>LU5CBA</td>\n",
       "      <td>CENTRO DE RADIOAFICIONADOS CIUDAD DE BUENOS AIRES</td>\n",
       "      <td>30678983388</td>\n",
       "      <td>13/9/2023</td>\n",
       "    </tr>\n",
       "    <tr>\n",
       "      <th>2</th>\n",
       "      <td>145,21</td>\n",
       "      <td>144,61</td>\n",
       "      <td>-0,6</td>\n",
       "      <td>67</td>\n",
       "      <td>NaN</td>\n",
       "      <td>SAN RAFAEL</td>\n",
       "      <td>MENDOZA</td>\n",
       "      <td>LU1MEK</td>\n",
       "      <td>PABLO DANIEL ARCO</td>\n",
       "      <td>20248669862</td>\n",
       "      <td>26/3/2024</td>\n",
       "    </tr>\n",
       "    <tr>\n",
       "      <th>3</th>\n",
       "      <td>145,21</td>\n",
       "      <td>144,61</td>\n",
       "      <td>-0,6</td>\n",
       "      <td>67</td>\n",
       "      <td>NaN</td>\n",
       "      <td>AVELLANEDA</td>\n",
       "      <td>BUENOS AIRES</td>\n",
       "      <td>LU8EB</td>\n",
       "      <td>MARCELO OMAR BLANCO</td>\n",
       "      <td>20230604437</td>\n",
       "      <td>8/11/2023</td>\n",
       "    </tr>\n",
       "    <tr>\n",
       "      <th>4</th>\n",
       "      <td>145,23</td>\n",
       "      <td>144,63</td>\n",
       "      <td>-0,6</td>\n",
       "      <td>67</td>\n",
       "      <td>NaN</td>\n",
       "      <td>LANUS</td>\n",
       "      <td>BUENOS AIRES</td>\n",
       "      <td>LU8EB</td>\n",
       "      <td>MARCELO OMAR BLANCO</td>\n",
       "      <td>20230604437</td>\n",
       "      <td>8/11/2023</td>\n",
       "    </tr>\n",
       "  </tbody>\n",
       "</table>\n",
       "</div>"
      ],
      "text/plain": [
       "  Frecuencia de Salida [MHz] Frecuencia de Entrada [MHz]   \n",
       "0                      29,67                       29,57  \\\n",
       "1                       53,7                        52,7   \n",
       "2                     145,21                      144,61   \n",
       "3                     145,21                      144,61   \n",
       "4                     145,23                      144,63   \n",
       "\n",
       "  Diferencia en Frecuencia [MHz] Subtono [Hz] Usa Subtono   Localidad   \n",
       "0                           -0,1            0         NaN     CORDOBA  \\\n",
       "1                             -1           67         NaN        CABA   \n",
       "2                           -0,6           67         NaN  SAN RAFAEL   \n",
       "3                           -0,6           67         NaN  AVELLANEDA   \n",
       "4                           -0,6           67         NaN       LANUS   \n",
       "\n",
       "      Provincia Señal Distintiva   \n",
       "0       CORDOBA            LU4HH  \\\n",
       "1          CABA           LU5CBA   \n",
       "2       MENDOZA           LU1MEK   \n",
       "3  BUENOS AIRES            LU8EB   \n",
       "4  BUENOS AIRES            LU8EB   \n",
       "\n",
       "                                           Radioclub         CUIT Vencimiento  \n",
       "0                                 RADIO CLUB CORDOBA  30660960925   6/12/2023  \n",
       "1  CENTRO DE RADIOAFICIONADOS CIUDAD DE BUENOS AIRES  30678983388   13/9/2023  \n",
       "2                                  PABLO DANIEL ARCO  20248669862   26/3/2024  \n",
       "3                                MARCELO OMAR BLANCO  20230604437   8/11/2023  \n",
       "4                                MARCELO OMAR BLANCO  20230604437   8/11/2023  "
      ]
     },
     "execution_count": 3,
     "metadata": {},
     "output_type": "execute_result"
    }
   ],
   "source": [
    "est_repetidoras.head()"
   ]
  },
  {
   "cell_type": "code",
   "execution_count": 4,
   "metadata": {},
   "outputs": [
    {
     "name": "stdout",
     "output_type": "stream",
     "text": [
      "<class 'pandas.core.frame.DataFrame'>\n",
      "RangeIndex: 191 entries, 0 to 190\n",
      "Data columns (total 11 columns):\n",
      " #   Column                          Non-Null Count  Dtype \n",
      "---  ------                          --------------  ----- \n",
      " 0   Frecuencia de Salida [MHz]      191 non-null    object\n",
      " 1   Frecuencia de Entrada [MHz]     191 non-null    object\n",
      " 2   Diferencia en Frecuencia [MHz]  191 non-null    object\n",
      " 3   Subtono [Hz]                    191 non-null    object\n",
      " 4   Usa Subtono                     8 non-null      object\n",
      " 5   Localidad                       191 non-null    object\n",
      " 6   Provincia                       191 non-null    object\n",
      " 7   Señal Distintiva                191 non-null    object\n",
      " 8   Radioclub                       191 non-null    object\n",
      " 9   CUIT                            191 non-null    int64 \n",
      " 10  Vencimiento                     191 non-null    object\n",
      "dtypes: int64(1), object(10)\n",
      "memory usage: 16.5+ KB\n"
     ]
    }
   ],
   "source": [
    "est_repetidoras.info()"
   ]
  },
  {
   "attachments": {},
   "cell_type": "markdown",
   "metadata": {},
   "source": [
    "#### Listado RAF"
   ]
  },
  {
   "cell_type": "code",
   "execution_count": 7,
   "metadata": {},
   "outputs": [],
   "source": [
    "raf = pd.read_csv('/Volumes/KINGSTON/Henry/Proyecto 2/PI_DA/Datasets/Opcionales/Espectro Radioeléctrico (Radio)/Listado RAF. AL 15.06.2023.csv')"
   ]
  },
  {
   "cell_type": "code",
   "execution_count": 8,
   "metadata": {},
   "outputs": [
    {
     "data": {
      "text/html": [
       "<div>\n",
       "<style scoped>\n",
       "    .dataframe tbody tr th:only-of-type {\n",
       "        vertical-align: middle;\n",
       "    }\n",
       "\n",
       "    .dataframe tbody tr th {\n",
       "        vertical-align: top;\n",
       "    }\n",
       "\n",
       "    .dataframe thead th {\n",
       "        text-align: right;\n",
       "    }\n",
       "</style>\n",
       "<table border=\"1\" class=\"dataframe\">\n",
       "  <thead>\n",
       "    <tr style=\"text-align: right;\">\n",
       "      <th></th>\n",
       "      <th>Titular de la Licencia</th>\n",
       "      <th>Señal Distintiva</th>\n",
       "      <th>Categoría</th>\n",
       "      <th>Expiración</th>\n",
       "      <th>Provincia</th>\n",
       "      <th>Localidad</th>\n",
       "      <th>Unnamed: 6</th>\n",
       "      <th>Unnamed: 7</th>\n",
       "    </tr>\n",
       "  </thead>\n",
       "  <tbody>\n",
       "    <tr>\n",
       "      <th>0</th>\n",
       "      <td>PROTECCION CIVIL (MIN. SEG. NACION)</td>\n",
       "      <td>LU0CD</td>\n",
       "      <td>SUPERIOR</td>\n",
       "      <td>21/05/25</td>\n",
       "      <td>Ciudad de Buenos Aires</td>\n",
       "      <td>CIUDAD AUTONOMA DE BUENOS AIRES</td>\n",
       "      <td>NaN</td>\n",
       "      <td>NaN</td>\n",
       "    </tr>\n",
       "    <tr>\n",
       "      <th>1</th>\n",
       "      <td>ARTURO JORGE PEYRU</td>\n",
       "      <td>LU1AAA</td>\n",
       "      <td>NOVICIO</td>\n",
       "      <td>07/05/24</td>\n",
       "      <td>Ciudad de Buenos Aires</td>\n",
       "      <td>CIUDAD AUTONOMA DE BUENOS AIRES</td>\n",
       "      <td>NaN</td>\n",
       "      <td>NaN</td>\n",
       "    </tr>\n",
       "    <tr>\n",
       "      <th>2</th>\n",
       "      <td>CHRISTIAN LUIS DIAZ</td>\n",
       "      <td>LU1AAB</td>\n",
       "      <td>NOVICIO</td>\n",
       "      <td>26/04/24</td>\n",
       "      <td>Ciudad de Buenos Aires</td>\n",
       "      <td>CIUDAD AUTONOMA DE BUENOS AIRES</td>\n",
       "      <td>NaN</td>\n",
       "      <td>NaN</td>\n",
       "    </tr>\n",
       "    <tr>\n",
       "      <th>3</th>\n",
       "      <td>WENCESLAO BERNARDINO MOREL</td>\n",
       "      <td>LU1AAC</td>\n",
       "      <td>GENERAL</td>\n",
       "      <td>16/05/24</td>\n",
       "      <td>Ciudad de Buenos Aires</td>\n",
       "      <td>CIUDAD AUTONOMA DE BUENOS AIRES</td>\n",
       "      <td>NaN</td>\n",
       "      <td>NaN</td>\n",
       "    </tr>\n",
       "    <tr>\n",
       "      <th>4</th>\n",
       "      <td>JUAN ANTONIO BILOTA</td>\n",
       "      <td>LU1AAD</td>\n",
       "      <td>NOVICIO</td>\n",
       "      <td>14/08/24</td>\n",
       "      <td>Ciudad de Buenos Aires</td>\n",
       "      <td>CIUDAD AUTONOMA DE BUENOS AIRES</td>\n",
       "      <td>NaN</td>\n",
       "      <td>NaN</td>\n",
       "    </tr>\n",
       "  </tbody>\n",
       "</table>\n",
       "</div>"
      ],
      "text/plain": [
       "                Titular de la Licencia Señal Distintiva Categoría Expiración   \n",
       "0  PROTECCION CIVIL (MIN. SEG. NACION)            LU0CD  SUPERIOR   21/05/25  \\\n",
       "1                   ARTURO JORGE PEYRU           LU1AAA   NOVICIO   07/05/24   \n",
       "2                  CHRISTIAN LUIS DIAZ           LU1AAB   NOVICIO   26/04/24   \n",
       "3           WENCESLAO BERNARDINO MOREL           LU1AAC   GENERAL   16/05/24   \n",
       "4                  JUAN ANTONIO BILOTA           LU1AAD   NOVICIO   14/08/24   \n",
       "\n",
       "                Provincia                        Localidad  Unnamed: 6   \n",
       "0  Ciudad de Buenos Aires  CIUDAD AUTONOMA DE BUENOS AIRES         NaN  \\\n",
       "1  Ciudad de Buenos Aires  CIUDAD AUTONOMA DE BUENOS AIRES         NaN   \n",
       "2  Ciudad de Buenos Aires  CIUDAD AUTONOMA DE BUENOS AIRES         NaN   \n",
       "3  Ciudad de Buenos Aires  CIUDAD AUTONOMA DE BUENOS AIRES         NaN   \n",
       "4  Ciudad de Buenos Aires  CIUDAD AUTONOMA DE BUENOS AIRES         NaN   \n",
       "\n",
       "   Unnamed: 7  \n",
       "0         NaN  \n",
       "1         NaN  \n",
       "2         NaN  \n",
       "3         NaN  \n",
       "4         NaN  "
      ]
     },
     "execution_count": 8,
     "metadata": {},
     "output_type": "execute_result"
    }
   ],
   "source": [
    "raf.head()"
   ]
  },
  {
   "cell_type": "code",
   "execution_count": 9,
   "metadata": {},
   "outputs": [
    {
     "name": "stdout",
     "output_type": "stream",
     "text": [
      "<class 'pandas.core.frame.DataFrame'>\n",
      "RangeIndex: 14995 entries, 0 to 14994\n",
      "Data columns (total 8 columns):\n",
      " #   Column                  Non-Null Count  Dtype  \n",
      "---  ------                  --------------  -----  \n",
      " 0   Titular de la Licencia  14995 non-null  object \n",
      " 1   Señal Distintiva        14995 non-null  object \n",
      " 2   Categoría               14995 non-null  object \n",
      " 3   Expiración              14995 non-null  object \n",
      " 4   Provincia               14992 non-null  object \n",
      " 5   Localidad               14989 non-null  object \n",
      " 6   Unnamed: 6              0 non-null      float64\n",
      " 7   Unnamed: 7              0 non-null      float64\n",
      "dtypes: float64(2), object(6)\n",
      "memory usage: 937.3+ KB\n"
     ]
    }
   ],
   "source": [
    "raf.info()"
   ]
  },
  {
   "attachments": {},
   "cell_type": "markdown",
   "metadata": {},
   "source": [
    "#### Señales Distinticas Especiales"
   ]
  },
  {
   "cell_type": "code",
   "execution_count": 10,
   "metadata": {},
   "outputs": [],
   "source": [
    "seniales_esp = pd.read_csv('/Volumes/KINGSTON/Henry/Proyecto 2/PI_DA/Datasets/Opcionales/Espectro Radioeléctrico (Radio)/SenialesDistintivasEspeciales_20220126.csv')"
   ]
  },
  {
   "cell_type": "code",
   "execution_count": 11,
   "metadata": {},
   "outputs": [
    {
     "data": {
      "text/html": [
       "<div>\n",
       "<style scoped>\n",
       "    .dataframe tbody tr th:only-of-type {\n",
       "        vertical-align: middle;\n",
       "    }\n",
       "\n",
       "    .dataframe tbody tr th {\n",
       "        vertical-align: top;\n",
       "    }\n",
       "\n",
       "    .dataframe thead th {\n",
       "        text-align: right;\n",
       "    }\n",
       "</style>\n",
       "<table border=\"1\" class=\"dataframe\">\n",
       "  <thead>\n",
       "    <tr style=\"text-align: right;\">\n",
       "      <th></th>\n",
       "      <th>Señal distintiva especial</th>\n",
       "      <th>Radio Club / Institución / Radioaficionado</th>\n",
       "      <th>CUIT</th>\n",
       "      <th>Señal distintiva</th>\n",
       "      <th>Vigencia</th>\n",
       "    </tr>\n",
       "  </thead>\n",
       "  <tbody>\n",
       "    <tr>\n",
       "      <th>0</th>\n",
       "      <td>AZ1A</td>\n",
       "      <td>JUAN ANTONIO GUTIERREZ</td>\n",
       "      <td>20120443144</td>\n",
       "      <td>LU1AW</td>\n",
       "      <td>31/12/2022</td>\n",
       "    </tr>\n",
       "    <tr>\n",
       "      <th>1</th>\n",
       "      <td>L20X</td>\n",
       "      <td>CARLOS WALTER HEREDIA</td>\n",
       "      <td>20160256517</td>\n",
       "      <td>LU1XP</td>\n",
       "      <td>31/12/2022</td>\n",
       "    </tr>\n",
       "    <tr>\n",
       "      <th>2</th>\n",
       "      <td>L30RCG</td>\n",
       "      <td>RADIO CLUB GUALEGUAYCHU</td>\n",
       "      <td>30671054780</td>\n",
       "      <td>LU1JGU</td>\n",
       "      <td>31/12/2022</td>\n",
       "    </tr>\n",
       "    <tr>\n",
       "      <th>3</th>\n",
       "      <td>L50EO</td>\n",
       "      <td>AVELLANEDA RADIO CLUB</td>\n",
       "      <td>30662189576</td>\n",
       "      <td>LU7EO</td>\n",
       "      <td>31/12/2022</td>\n",
       "    </tr>\n",
       "    <tr>\n",
       "      <th>4</th>\n",
       "      <td>L70SF</td>\n",
       "      <td>RADIO CLUB LA RIOJA</td>\n",
       "      <td>30671851869</td>\n",
       "      <td>LU1SF</td>\n",
       "      <td>31/12/2022</td>\n",
       "    </tr>\n",
       "  </tbody>\n",
       "</table>\n",
       "</div>"
      ],
      "text/plain": [
       "  Señal distintiva especial Radio Club / Institución / Radioaficionado   \n",
       "0                      AZ1A                     JUAN ANTONIO GUTIERREZ  \\\n",
       "1                      L20X                      CARLOS WALTER HEREDIA   \n",
       "2                    L30RCG                    RADIO CLUB GUALEGUAYCHU   \n",
       "3                     L50EO                      AVELLANEDA RADIO CLUB   \n",
       "4                     L70SF                        RADIO CLUB LA RIOJA   \n",
       "\n",
       "          CUIT Señal distintiva    Vigencia  \n",
       "0  20120443144            LU1AW  31/12/2022  \n",
       "1  20160256517            LU1XP  31/12/2022  \n",
       "2  30671054780           LU1JGU  31/12/2022  \n",
       "3  30662189576            LU7EO  31/12/2022  \n",
       "4  30671851869            LU1SF  31/12/2022  "
      ]
     },
     "execution_count": 11,
     "metadata": {},
     "output_type": "execute_result"
    }
   ],
   "source": [
    "seniales_esp.head()"
   ]
  },
  {
   "cell_type": "code",
   "execution_count": 12,
   "metadata": {},
   "outputs": [
    {
     "name": "stdout",
     "output_type": "stream",
     "text": [
      "<class 'pandas.core.frame.DataFrame'>\n",
      "RangeIndex: 61 entries, 0 to 60\n",
      "Data columns (total 5 columns):\n",
      " #   Column                                      Non-Null Count  Dtype \n",
      "---  ------                                      --------------  ----- \n",
      " 0   Señal distintiva especial                   61 non-null     object\n",
      " 1   Radio Club / Institución / Radioaficionado  61 non-null     object\n",
      " 2   CUIT                                        61 non-null     int64 \n",
      " 3   Señal distintiva                            61 non-null     object\n",
      " 4   Vigencia                                    61 non-null     object\n",
      "dtypes: int64(1), object(4)\n",
      "memory usage: 2.5+ KB\n"
     ]
    }
   ],
   "source": [
    "seniales_esp.info()"
   ]
  },
  {
   "attachments": {},
   "cell_type": "markdown",
   "metadata": {},
   "source": [
    "Los tres datasets comparten la Señal Distintiva, ve como relacionarlas."
   ]
  },
  {
   "attachments": {},
   "cell_type": "markdown",
   "metadata": {},
   "source": [
    "# Telefonía Fija"
   ]
  },
  {
   "attachments": {},
   "cell_type": "markdown",
   "metadata": {},
   "source": [
    "#### Archivo 1"
   ]
  },
  {
   "cell_type": "code",
   "execution_count": 13,
   "metadata": {},
   "outputs": [],
   "source": [
    "tel_fija_uno = pd.read_csv('/Volumes/KINGSTON/Henry/Proyecto 2/PI_DA/Datasets/Opcionales/Telefonía Fija/telefonia_fija.csv')"
   ]
  },
  {
   "cell_type": "code",
   "execution_count": 14,
   "metadata": {},
   "outputs": [
    {
     "data": {
      "text/html": [
       "<div>\n",
       "<style scoped>\n",
       "    .dataframe tbody tr th:only-of-type {\n",
       "        vertical-align: middle;\n",
       "    }\n",
       "\n",
       "    .dataframe tbody tr th {\n",
       "        vertical-align: top;\n",
       "    }\n",
       "\n",
       "    .dataframe thead th {\n",
       "        text-align: right;\n",
       "    }\n",
       "</style>\n",
       "<table border=\"1\" class=\"dataframe\">\n",
       "  <thead>\n",
       "    <tr style=\"text-align: right;\">\n",
       "      <th></th>\n",
       "      <th>Año</th>\n",
       "      <th>Trimestre</th>\n",
       "      <th>Provincia</th>\n",
       "      <th>Accesos telefonía fija por cada 100 hab</th>\n",
       "      <th>Accesos telefonía fija por cada 100 hogares</th>\n",
       "    </tr>\n",
       "  </thead>\n",
       "  <tbody>\n",
       "    <tr>\n",
       "      <th>0</th>\n",
       "      <td>2014</td>\n",
       "      <td>1</td>\n",
       "      <td>Buenos Aires</td>\n",
       "      <td>26,72</td>\n",
       "      <td>85,26</td>\n",
       "    </tr>\n",
       "    <tr>\n",
       "      <th>1</th>\n",
       "      <td>2014</td>\n",
       "      <td>1</td>\n",
       "      <td>Capital Federal</td>\n",
       "      <td>52,66</td>\n",
       "      <td>128,57</td>\n",
       "    </tr>\n",
       "    <tr>\n",
       "      <th>2</th>\n",
       "      <td>2014</td>\n",
       "      <td>1</td>\n",
       "      <td>Catamarca</td>\n",
       "      <td>10,03</td>\n",
       "      <td>39,45</td>\n",
       "    </tr>\n",
       "    <tr>\n",
       "      <th>3</th>\n",
       "      <td>2014</td>\n",
       "      <td>1</td>\n",
       "      <td>Chaco</td>\n",
       "      <td>9,09</td>\n",
       "      <td>34,02</td>\n",
       "    </tr>\n",
       "    <tr>\n",
       "      <th>4</th>\n",
       "      <td>2014</td>\n",
       "      <td>1</td>\n",
       "      <td>Chubut</td>\n",
       "      <td>17,66</td>\n",
       "      <td>57,59</td>\n",
       "    </tr>\n",
       "  </tbody>\n",
       "</table>\n",
       "</div>"
      ],
      "text/plain": [
       "    Año  Trimestre        Provincia Accesos telefonía fija por cada 100 hab   \n",
       "0  2014          1     Buenos Aires                                   26,72  \\\n",
       "1  2014          1  Capital Federal                                   52,66   \n",
       "2  2014          1        Catamarca                                   10,03   \n",
       "3  2014          1            Chaco                                    9,09   \n",
       "4  2014          1           Chubut                                   17,66   \n",
       "\n",
       "  Accesos telefonía fija por cada 100 hogares  \n",
       "0                                       85,26  \n",
       "1                                      128,57  \n",
       "2                                       39,45  \n",
       "3                                       34,02  \n",
       "4                                       57,59  "
      ]
     },
     "execution_count": 14,
     "metadata": {},
     "output_type": "execute_result"
    }
   ],
   "source": [
    "tel_fija_uno.head()"
   ]
  },
  {
   "cell_type": "code",
   "execution_count": 15,
   "metadata": {},
   "outputs": [
    {
     "name": "stdout",
     "output_type": "stream",
     "text": [
      "<class 'pandas.core.frame.DataFrame'>\n",
      "RangeIndex: 840 entries, 0 to 839\n",
      "Data columns (total 5 columns):\n",
      " #   Column                                       Non-Null Count  Dtype \n",
      "---  ------                                       --------------  ----- \n",
      " 0   Año                                          840 non-null    int64 \n",
      " 1   Trimestre                                    840 non-null    int64 \n",
      " 2   Provincia                                    840 non-null    object\n",
      " 3   Accesos telefonía fija por cada 100 hab      840 non-null    object\n",
      " 4   Accesos telefonía fija por cada 100 hogares  840 non-null    object\n",
      "dtypes: int64(2), object(3)\n",
      "memory usage: 32.9+ KB\n"
     ]
    }
   ],
   "source": [
    "tel_fija_uno.info()"
   ]
  },
  {
   "attachments": {},
   "cell_type": "markdown",
   "metadata": {},
   "source": [
    "#### Archivo 2"
   ]
  },
  {
   "cell_type": "code",
   "execution_count": 16,
   "metadata": {},
   "outputs": [],
   "source": [
    "tel_fija_dos = pd.read_csv('/Volumes/KINGSTON/Henry/Proyecto 2/PI_DA/Datasets/Opcionales/Telefonía Fija/telefonia_fija (1).csv')"
   ]
  },
  {
   "cell_type": "code",
   "execution_count": 17,
   "metadata": {},
   "outputs": [
    {
     "data": {
      "text/html": [
       "<div>\n",
       "<style scoped>\n",
       "    .dataframe tbody tr th:only-of-type {\n",
       "        vertical-align: middle;\n",
       "    }\n",
       "\n",
       "    .dataframe tbody tr th {\n",
       "        vertical-align: top;\n",
       "    }\n",
       "\n",
       "    .dataframe thead th {\n",
       "        text-align: right;\n",
       "    }\n",
       "</style>\n",
       "<table border=\"1\" class=\"dataframe\">\n",
       "  <thead>\n",
       "    <tr style=\"text-align: right;\">\n",
       "      <th></th>\n",
       "      <th>Año</th>\n",
       "      <th>Trimestre</th>\n",
       "      <th>Accesos telefonía fija por cada 100 hab</th>\n",
       "      <th>Accesos telefonía fija por cada 100 hogares</th>\n",
       "    </tr>\n",
       "  </thead>\n",
       "  <tbody>\n",
       "    <tr>\n",
       "      <th>0</th>\n",
       "      <td>2022</td>\n",
       "      <td>3</td>\n",
       "      <td>16,56</td>\n",
       "      <td>53,34</td>\n",
       "    </tr>\n",
       "    <tr>\n",
       "      <th>1</th>\n",
       "      <td>2022</td>\n",
       "      <td>2</td>\n",
       "      <td>16,84</td>\n",
       "      <td>54,27</td>\n",
       "    </tr>\n",
       "    <tr>\n",
       "      <th>2</th>\n",
       "      <td>2022</td>\n",
       "      <td>1</td>\n",
       "      <td>16,95</td>\n",
       "      <td>54,67</td>\n",
       "    </tr>\n",
       "    <tr>\n",
       "      <th>3</th>\n",
       "      <td>2021</td>\n",
       "      <td>4</td>\n",
       "      <td>16,74</td>\n",
       "      <td>53,88</td>\n",
       "    </tr>\n",
       "    <tr>\n",
       "      <th>4</th>\n",
       "      <td>2021</td>\n",
       "      <td>3</td>\n",
       "      <td>15,41</td>\n",
       "      <td>49,64</td>\n",
       "    </tr>\n",
       "  </tbody>\n",
       "</table>\n",
       "</div>"
      ],
      "text/plain": [
       "    Año  Trimestre Accesos telefonía fija por cada 100 hab   \n",
       "0  2022          3                                   16,56  \\\n",
       "1  2022          2                                   16,84   \n",
       "2  2022          1                                   16,95   \n",
       "3  2021          4                                   16,74   \n",
       "4  2021          3                                   15,41   \n",
       "\n",
       "  Accesos telefonía fija por cada 100 hogares  \n",
       "0                                       53,34  \n",
       "1                                       54,27  \n",
       "2                                       54,67  \n",
       "3                                       53,88  \n",
       "4                                       49,64  "
      ]
     },
     "execution_count": 17,
     "metadata": {},
     "output_type": "execute_result"
    }
   ],
   "source": [
    "tel_fija_dos.head()"
   ]
  },
  {
   "cell_type": "code",
   "execution_count": 18,
   "metadata": {},
   "outputs": [
    {
     "name": "stdout",
     "output_type": "stream",
     "text": [
      "<class 'pandas.core.frame.DataFrame'>\n",
      "RangeIndex: 35 entries, 0 to 34\n",
      "Data columns (total 4 columns):\n",
      " #   Column                                       Non-Null Count  Dtype \n",
      "---  ------                                       --------------  ----- \n",
      " 0   Año                                          35 non-null     int64 \n",
      " 1   Trimestre                                    35 non-null     int64 \n",
      " 2   Accesos telefonía fija por cada 100 hab      35 non-null     object\n",
      " 3   Accesos telefonía fija por cada 100 hogares  35 non-null     object\n",
      "dtypes: int64(2), object(2)\n",
      "memory usage: 1.2+ KB\n"
     ]
    }
   ],
   "source": [
    "tel_fija_dos.info()"
   ]
  },
  {
   "attachments": {},
   "cell_type": "markdown",
   "metadata": {},
   "source": [
    "#### Archivo 3"
   ]
  },
  {
   "cell_type": "code",
   "execution_count": 19,
   "metadata": {},
   "outputs": [],
   "source": [
    "tel_fija_tres = pd.read_csv('/Volumes/KINGSTON/Henry/Proyecto 2/PI_DA/Datasets/Opcionales/Telefonía Fija/telefonia_fija (2).csv')"
   ]
  },
  {
   "cell_type": "code",
   "execution_count": 20,
   "metadata": {},
   "outputs": [
    {
     "data": {
      "text/html": [
       "<div>\n",
       "<style scoped>\n",
       "    .dataframe tbody tr th:only-of-type {\n",
       "        vertical-align: middle;\n",
       "    }\n",
       "\n",
       "    .dataframe tbody tr th {\n",
       "        vertical-align: top;\n",
       "    }\n",
       "\n",
       "    .dataframe thead th {\n",
       "        text-align: right;\n",
       "    }\n",
       "</style>\n",
       "<table border=\"1\" class=\"dataframe\">\n",
       "  <thead>\n",
       "    <tr style=\"text-align: right;\">\n",
       "      <th></th>\n",
       "      <th>Año</th>\n",
       "      <th>Trimestre</th>\n",
       "      <th>Provincia</th>\n",
       "      <th>Accesos telefonía fija (total)</th>\n",
       "      <th>Accesos telefonía fija (hogares)</th>\n",
       "      <th>Accesos telefonía fija (comercial)</th>\n",
       "      <th>Accesos telefonía fija (gobierno)</th>\n",
       "      <th>Accesos telefonía fija (otros)</th>\n",
       "    </tr>\n",
       "  </thead>\n",
       "  <tbody>\n",
       "    <tr>\n",
       "      <th>0</th>\n",
       "      <td>2022</td>\n",
       "      <td>3</td>\n",
       "      <td>Buenos Aires</td>\n",
       "      <td>3.422.524</td>\n",
       "      <td>3.129.178</td>\n",
       "      <td>228.867</td>\n",
       "      <td>15.056</td>\n",
       "      <td>49.423</td>\n",
       "    </tr>\n",
       "    <tr>\n",
       "      <th>1</th>\n",
       "      <td>2022</td>\n",
       "      <td>3</td>\n",
       "      <td>Capital Federal</td>\n",
       "      <td>1.675.854</td>\n",
       "      <td>1.532.216</td>\n",
       "      <td>112.066</td>\n",
       "      <td>7.372</td>\n",
       "      <td>24.200</td>\n",
       "    </tr>\n",
       "    <tr>\n",
       "      <th>2</th>\n",
       "      <td>2022</td>\n",
       "      <td>3</td>\n",
       "      <td>Catamarca</td>\n",
       "      <td>25.672</td>\n",
       "      <td>23.471</td>\n",
       "      <td>1.717</td>\n",
       "      <td>113.000</td>\n",
       "      <td>371.000</td>\n",
       "    </tr>\n",
       "    <tr>\n",
       "      <th>3</th>\n",
       "      <td>2022</td>\n",
       "      <td>3</td>\n",
       "      <td>Chaco</td>\n",
       "      <td>65.662</td>\n",
       "      <td>60.034</td>\n",
       "      <td>4.391</td>\n",
       "      <td>289.000</td>\n",
       "      <td>948.000</td>\n",
       "    </tr>\n",
       "    <tr>\n",
       "      <th>4</th>\n",
       "      <td>2022</td>\n",
       "      <td>3</td>\n",
       "      <td>Chubut</td>\n",
       "      <td>72.311</td>\n",
       "      <td>66.114</td>\n",
       "      <td>4.835</td>\n",
       "      <td>318.000</td>\n",
       "      <td>1.044</td>\n",
       "    </tr>\n",
       "  </tbody>\n",
       "</table>\n",
       "</div>"
      ],
      "text/plain": [
       "    Año  Trimestre        Provincia Accesos telefonía fija (total)   \n",
       "0  2022          3     Buenos Aires                      3.422.524  \\\n",
       "1  2022          3  Capital Federal                      1.675.854   \n",
       "2  2022          3        Catamarca                         25.672   \n",
       "3  2022          3            Chaco                         65.662   \n",
       "4  2022          3           Chubut                         72.311   \n",
       "\n",
       "  Accesos telefonía fija (hogares)  Accesos telefonía fija (comercial)   \n",
       "0                        3.129.178                             228.867  \\\n",
       "1                        1.532.216                             112.066   \n",
       "2                           23.471                               1.717   \n",
       "3                           60.034                               4.391   \n",
       "4                           66.114                               4.835   \n",
       "\n",
       "   Accesos telefonía fija (gobierno)  Accesos telefonía fija (otros)  \n",
       "0                             15.056                          49.423  \n",
       "1                              7.372                          24.200  \n",
       "2                            113.000                         371.000  \n",
       "3                            289.000                         948.000  \n",
       "4                            318.000                           1.044  "
      ]
     },
     "execution_count": 20,
     "metadata": {},
     "output_type": "execute_result"
    }
   ],
   "source": [
    "tel_fija_tres.head()"
   ]
  },
  {
   "cell_type": "code",
   "execution_count": 21,
   "metadata": {},
   "outputs": [
    {
     "name": "stdout",
     "output_type": "stream",
     "text": [
      "<class 'pandas.core.frame.DataFrame'>\n",
      "RangeIndex: 840 entries, 0 to 839\n",
      "Data columns (total 8 columns):\n",
      " #   Column                              Non-Null Count  Dtype  \n",
      "---  ------                              --------------  -----  \n",
      " 0   Año                                 840 non-null    int64  \n",
      " 1   Trimestre                           840 non-null    int64  \n",
      " 2   Provincia                           840 non-null    object \n",
      " 3   Accesos telefonía fija (total)      840 non-null    object \n",
      " 4   Accesos telefonía fija (hogares)    840 non-null    object \n",
      " 5   Accesos telefonía fija (comercial)  840 non-null    float64\n",
      " 6   Accesos telefonía fija (gobierno)   840 non-null    float64\n",
      " 7   Accesos telefonía fija (otros)      840 non-null    float64\n",
      "dtypes: float64(3), int64(2), object(3)\n",
      "memory usage: 52.6+ KB\n"
     ]
    }
   ],
   "source": [
    "tel_fija_tres.info()"
   ]
  },
  {
   "attachments": {},
   "cell_type": "markdown",
   "metadata": {},
   "source": [
    "#### Archivo 4"
   ]
  },
  {
   "cell_type": "code",
   "execution_count": 22,
   "metadata": {},
   "outputs": [],
   "source": [
    "tel_fija_cuatro = pd.read_csv('Datasets/Opcionales/Telefonía Fija/telefonia_fija (3).csv')"
   ]
  },
  {
   "cell_type": "code",
   "execution_count": 24,
   "metadata": {},
   "outputs": [
    {
     "data": {
      "text/html": [
       "<div>\n",
       "<style scoped>\n",
       "    .dataframe tbody tr th:only-of-type {\n",
       "        vertical-align: middle;\n",
       "    }\n",
       "\n",
       "    .dataframe tbody tr th {\n",
       "        vertical-align: top;\n",
       "    }\n",
       "\n",
       "    .dataframe thead th {\n",
       "        text-align: right;\n",
       "    }\n",
       "</style>\n",
       "<table border=\"1\" class=\"dataframe\">\n",
       "  <thead>\n",
       "    <tr style=\"text-align: right;\">\n",
       "      <th></th>\n",
       "      <th>Año</th>\n",
       "      <th>Trimestre</th>\n",
       "      <th>Provincia</th>\n",
       "      <th>Accesos telefonía fija por cada 100 hab</th>\n",
       "      <th>Accesos telefonía fija por cada 100 hogares</th>\n",
       "    </tr>\n",
       "  </thead>\n",
       "  <tbody>\n",
       "    <tr>\n",
       "      <th>0</th>\n",
       "      <td>2014</td>\n",
       "      <td>1</td>\n",
       "      <td>Buenos Aires</td>\n",
       "      <td>26.72</td>\n",
       "      <td>85.26</td>\n",
       "    </tr>\n",
       "    <tr>\n",
       "      <th>1</th>\n",
       "      <td>2014</td>\n",
       "      <td>1</td>\n",
       "      <td>Capital Federal</td>\n",
       "      <td>52.66</td>\n",
       "      <td>128.57</td>\n",
       "    </tr>\n",
       "    <tr>\n",
       "      <th>2</th>\n",
       "      <td>2014</td>\n",
       "      <td>1</td>\n",
       "      <td>Catamarca</td>\n",
       "      <td>10.03</td>\n",
       "      <td>39.45</td>\n",
       "    </tr>\n",
       "    <tr>\n",
       "      <th>3</th>\n",
       "      <td>2014</td>\n",
       "      <td>1</td>\n",
       "      <td>Chaco</td>\n",
       "      <td>9.09</td>\n",
       "      <td>34.02</td>\n",
       "    </tr>\n",
       "    <tr>\n",
       "      <th>4</th>\n",
       "      <td>2014</td>\n",
       "      <td>1</td>\n",
       "      <td>Chubut</td>\n",
       "      <td>17.66</td>\n",
       "      <td>57.59</td>\n",
       "    </tr>\n",
       "  </tbody>\n",
       "</table>\n",
       "</div>"
      ],
      "text/plain": [
       "    Año  Trimestre        Provincia  Accesos telefonía fija por cada 100 hab   \n",
       "0  2014          1     Buenos Aires                                    26.72  \\\n",
       "1  2014          1  Capital Federal                                    52.66   \n",
       "2  2014          1        Catamarca                                    10.03   \n",
       "3  2014          1            Chaco                                     9.09   \n",
       "4  2014          1           Chubut                                    17.66   \n",
       "\n",
       "   Accesos telefonía fija por cada 100 hogares  \n",
       "0                                        85.26  \n",
       "1                                       128.57  \n",
       "2                                        39.45  \n",
       "3                                        34.02  \n",
       "4                                        57.59  "
      ]
     },
     "execution_count": 24,
     "metadata": {},
     "output_type": "execute_result"
    }
   ],
   "source": [
    "tel_fija_cuatro.head()"
   ]
  },
  {
   "cell_type": "code",
   "execution_count": 25,
   "metadata": {},
   "outputs": [
    {
     "name": "stdout",
     "output_type": "stream",
     "text": [
      "<class 'pandas.core.frame.DataFrame'>\n",
      "RangeIndex: 840 entries, 0 to 839\n",
      "Data columns (total 5 columns):\n",
      " #   Column                                       Non-Null Count  Dtype  \n",
      "---  ------                                       --------------  -----  \n",
      " 0   Año                                          840 non-null    int64  \n",
      " 1   Trimestre                                    840 non-null    int64  \n",
      " 2   Provincia                                    840 non-null    object \n",
      " 3   Accesos telefonía fija por cada 100 hab      840 non-null    float64\n",
      " 4   Accesos telefonía fija por cada 100 hogares  840 non-null    float64\n",
      "dtypes: float64(2), int64(2), object(1)\n",
      "memory usage: 32.9+ KB\n"
     ]
    }
   ],
   "source": [
    "tel_fija_cuatro.info()"
   ]
  },
  {
   "attachments": {},
   "cell_type": "markdown",
   "metadata": {},
   "source": [
    "#### Archivo 5"
   ]
  },
  {
   "cell_type": "code",
   "execution_count": 26,
   "metadata": {},
   "outputs": [],
   "source": [
    "tel_fija_cinco = pd.read_csv('Datasets/Opcionales/Telefonía Fija/telefonia_fija (4).csv')"
   ]
  },
  {
   "cell_type": "code",
   "execution_count": 27,
   "metadata": {},
   "outputs": [
    {
     "data": {
      "text/html": [
       "<div>\n",
       "<style scoped>\n",
       "    .dataframe tbody tr th:only-of-type {\n",
       "        vertical-align: middle;\n",
       "    }\n",
       "\n",
       "    .dataframe tbody tr th {\n",
       "        vertical-align: top;\n",
       "    }\n",
       "\n",
       "    .dataframe thead th {\n",
       "        text-align: right;\n",
       "    }\n",
       "</style>\n",
       "<table border=\"1\" class=\"dataframe\">\n",
       "  <thead>\n",
       "    <tr style=\"text-align: right;\">\n",
       "      <th></th>\n",
       "      <th>Año</th>\n",
       "      <th>Trimestre</th>\n",
       "      <th>Ingresos (miles de $)</th>\n",
       "    </tr>\n",
       "  </thead>\n",
       "  <tbody>\n",
       "    <tr>\n",
       "      <th>0</th>\n",
       "      <td>2014</td>\n",
       "      <td>1</td>\n",
       "      <td>2.916.071,75</td>\n",
       "    </tr>\n",
       "    <tr>\n",
       "      <th>1</th>\n",
       "      <td>2014</td>\n",
       "      <td>2</td>\n",
       "      <td>2.974.865,2</td>\n",
       "    </tr>\n",
       "    <tr>\n",
       "      <th>2</th>\n",
       "      <td>2014</td>\n",
       "      <td>3</td>\n",
       "      <td>3.105.462,02</td>\n",
       "    </tr>\n",
       "    <tr>\n",
       "      <th>3</th>\n",
       "      <td>2014</td>\n",
       "      <td>4</td>\n",
       "      <td>3.339.690,9</td>\n",
       "    </tr>\n",
       "    <tr>\n",
       "      <th>4</th>\n",
       "      <td>2015</td>\n",
       "      <td>1</td>\n",
       "      <td>3.260.124,75</td>\n",
       "    </tr>\n",
       "  </tbody>\n",
       "</table>\n",
       "</div>"
      ],
      "text/plain": [
       "    Año  Trimestre Ingresos (miles de $)\n",
       "0  2014          1          2.916.071,75\n",
       "1  2014          2           2.974.865,2\n",
       "2  2014          3          3.105.462,02\n",
       "3  2014          4           3.339.690,9\n",
       "4  2015          1          3.260.124,75"
      ]
     },
     "execution_count": 27,
     "metadata": {},
     "output_type": "execute_result"
    }
   ],
   "source": [
    "tel_fija_cinco.head()"
   ]
  },
  {
   "cell_type": "code",
   "execution_count": 28,
   "metadata": {},
   "outputs": [
    {
     "name": "stdout",
     "output_type": "stream",
     "text": [
      "<class 'pandas.core.frame.DataFrame'>\n",
      "RangeIndex: 35 entries, 0 to 34\n",
      "Data columns (total 3 columns):\n",
      " #   Column                 Non-Null Count  Dtype \n",
      "---  ------                 --------------  ----- \n",
      " 0   Año                    35 non-null     int64 \n",
      " 1   Trimestre              35 non-null     int64 \n",
      " 2   Ingresos (miles de $)  35 non-null     object\n",
      "dtypes: int64(2), object(1)\n",
      "memory usage: 968.0+ bytes\n"
     ]
    }
   ],
   "source": [
    "tel_fija_cinco.info()"
   ]
  },
  {
   "attachments": {},
   "cell_type": "markdown",
   "metadata": {},
   "source": [
    "#### Archivo 6"
   ]
  },
  {
   "cell_type": "code",
   "execution_count": 30,
   "metadata": {},
   "outputs": [],
   "source": [
    "tel_fija_seis = pd.read_csv('Datasets/Opcionales/Telefonía Fija/telefonia_fija (5).csv')"
   ]
  },
  {
   "cell_type": "code",
   "execution_count": 31,
   "metadata": {},
   "outputs": [
    {
     "data": {
      "text/html": [
       "<div>\n",
       "<style scoped>\n",
       "    .dataframe tbody tr th:only-of-type {\n",
       "        vertical-align: middle;\n",
       "    }\n",
       "\n",
       "    .dataframe tbody tr th {\n",
       "        vertical-align: top;\n",
       "    }\n",
       "\n",
       "    .dataframe thead th {\n",
       "        text-align: right;\n",
       "    }\n",
       "</style>\n",
       "<table border=\"1\" class=\"dataframe\">\n",
       "  <thead>\n",
       "    <tr style=\"text-align: right;\">\n",
       "      <th></th>\n",
       "      <th>Año</th>\n",
       "      <th>Trimestre</th>\n",
       "      <th>Accesos telefonía fija (total)</th>\n",
       "      <th>Accesos telefonía fija (hogares)</th>\n",
       "      <th>Accesos telefonía fija (comercial)</th>\n",
       "      <th>Accesos telefonía fija (gobierno)</th>\n",
       "      <th>Accesos telefonía fija (otros)</th>\n",
       "      <th>Periodo</th>\n",
       "    </tr>\n",
       "  </thead>\n",
       "  <tbody>\n",
       "    <tr>\n",
       "      <th>0</th>\n",
       "      <td>2014</td>\n",
       "      <td>1</td>\n",
       "      <td>9.562.231</td>\n",
       "      <td>7.897.980</td>\n",
       "      <td>1.065.834</td>\n",
       "      <td>30.917</td>\n",
       "      <td>567.500</td>\n",
       "      <td>Ene-Mar 2014</td>\n",
       "    </tr>\n",
       "    <tr>\n",
       "      <th>1</th>\n",
       "      <td>2014</td>\n",
       "      <td>2</td>\n",
       "      <td>9.548.994</td>\n",
       "      <td>7.872.511</td>\n",
       "      <td>1.073.038</td>\n",
       "      <td>31.339</td>\n",
       "      <td>572.106</td>\n",
       "      <td>Abr-Jun 2014</td>\n",
       "    </tr>\n",
       "    <tr>\n",
       "      <th>2</th>\n",
       "      <td>2014</td>\n",
       "      <td>3</td>\n",
       "      <td>9.613.361</td>\n",
       "      <td>7.924.613</td>\n",
       "      <td>1.091.747</td>\n",
       "      <td>32.516</td>\n",
       "      <td>564.485</td>\n",
       "      <td>Jul-Sept 2014</td>\n",
       "    </tr>\n",
       "    <tr>\n",
       "      <th>3</th>\n",
       "      <td>2014</td>\n",
       "      <td>4</td>\n",
       "      <td>9.689.752</td>\n",
       "      <td>7.989.623</td>\n",
       "      <td>1.106.502</td>\n",
       "      <td>33.139</td>\n",
       "      <td>560.488</td>\n",
       "      <td>Oct-Dic 2014</td>\n",
       "    </tr>\n",
       "    <tr>\n",
       "      <th>4</th>\n",
       "      <td>2015</td>\n",
       "      <td>1</td>\n",
       "      <td>10.086.221</td>\n",
       "      <td>8.358.053</td>\n",
       "      <td>1.134.427</td>\n",
       "      <td>36.888</td>\n",
       "      <td>556.853</td>\n",
       "      <td>Ene-Mar 2015</td>\n",
       "    </tr>\n",
       "  </tbody>\n",
       "</table>\n",
       "</div>"
      ],
      "text/plain": [
       "    Año  Trimestre Accesos telefonía fija (total)   \n",
       "0  2014          1                      9.562.231  \\\n",
       "1  2014          2                      9.548.994   \n",
       "2  2014          3                      9.613.361   \n",
       "3  2014          4                      9.689.752   \n",
       "4  2015          1                     10.086.221   \n",
       "\n",
       "  Accesos telefonía fija (hogares) Accesos telefonía fija (comercial)   \n",
       "0                        7.897.980                          1.065.834  \\\n",
       "1                        7.872.511                          1.073.038   \n",
       "2                        7.924.613                          1.091.747   \n",
       "3                        7.989.623                          1.106.502   \n",
       "4                        8.358.053                          1.134.427   \n",
       "\n",
       "   Accesos telefonía fija (gobierno)  Accesos telefonía fija (otros)   \n",
       "0                             30.917                         567.500  \\\n",
       "1                             31.339                         572.106   \n",
       "2                             32.516                         564.485   \n",
       "3                             33.139                         560.488   \n",
       "4                             36.888                         556.853   \n",
       "\n",
       "         Periodo  \n",
       "0   Ene-Mar 2014  \n",
       "1   Abr-Jun 2014  \n",
       "2  Jul-Sept 2014  \n",
       "3   Oct-Dic 2014  \n",
       "4   Ene-Mar 2015  "
      ]
     },
     "execution_count": 31,
     "metadata": {},
     "output_type": "execute_result"
    }
   ],
   "source": [
    "tel_fija_seis.head()"
   ]
  },
  {
   "cell_type": "code",
   "execution_count": 32,
   "metadata": {},
   "outputs": [
    {
     "name": "stdout",
     "output_type": "stream",
     "text": [
      "<class 'pandas.core.frame.DataFrame'>\n",
      "RangeIndex: 35 entries, 0 to 34\n",
      "Data columns (total 8 columns):\n",
      " #   Column                              Non-Null Count  Dtype  \n",
      "---  ------                              --------------  -----  \n",
      " 0   Año                                 35 non-null     int64  \n",
      " 1   Trimestre                           35 non-null     int64  \n",
      " 2   Accesos telefonía fija (total)      35 non-null     object \n",
      " 3   Accesos telefonía fija (hogares)    35 non-null     object \n",
      " 4   Accesos telefonía fija (comercial)  35 non-null     object \n",
      " 5   Accesos telefonía fija (gobierno)   35 non-null     float64\n",
      " 6   Accesos telefonía fija (otros)      35 non-null     float64\n",
      " 7   Periodo                             35 non-null     object \n",
      "dtypes: float64(2), int64(2), object(4)\n",
      "memory usage: 2.3+ KB\n"
     ]
    }
   ],
   "source": [
    "tel_fija_seis.info()"
   ]
  },
  {
   "attachments": {},
   "cell_type": "markdown",
   "metadata": {},
   "source": [
    "Hay varios archivos que se pueden relacionar mediante la provincia."
   ]
  },
  {
   "attachments": {},
   "cell_type": "markdown",
   "metadata": {},
   "source": [
    "# Telefonía Móvil"
   ]
  },
  {
   "attachments": {},
   "cell_type": "markdown",
   "metadata": {},
   "source": [
    "#### Portabilidad 1"
   ]
  },
  {
   "cell_type": "code",
   "execution_count": 33,
   "metadata": {},
   "outputs": [],
   "source": [
    "porta_uno = pd.read_csv('Datasets/Opcionales/Telefonía Movil/Portabilidad.csv')"
   ]
  },
  {
   "cell_type": "code",
   "execution_count": 34,
   "metadata": {},
   "outputs": [
    {
     "data": {
      "text/html": [
       "<div>\n",
       "<style scoped>\n",
       "    .dataframe tbody tr th:only-of-type {\n",
       "        vertical-align: middle;\n",
       "    }\n",
       "\n",
       "    .dataframe tbody tr th {\n",
       "        vertical-align: top;\n",
       "    }\n",
       "\n",
       "    .dataframe thead th {\n",
       "        text-align: right;\n",
       "    }\n",
       "</style>\n",
       "<table border=\"1\" class=\"dataframe\">\n",
       "  <thead>\n",
       "    <tr style=\"text-align: right;\">\n",
       "      <th></th>\n",
       "      <th>Año</th>\n",
       "      <th>Mes</th>\n",
       "      <th>Personal</th>\n",
       "      <th>Claro</th>\n",
       "      <th>Nextel</th>\n",
       "      <th>Movistar</th>\n",
       "      <th>Otros</th>\n",
       "    </tr>\n",
       "  </thead>\n",
       "  <tbody>\n",
       "    <tr>\n",
       "      <th>0</th>\n",
       "      <td>2022</td>\n",
       "      <td>10</td>\n",
       "      <td>60,855</td>\n",
       "      <td>117,430</td>\n",
       "      <td>NaN</td>\n",
       "      <td>119,716</td>\n",
       "      <td>153.0</td>\n",
       "    </tr>\n",
       "    <tr>\n",
       "      <th>1</th>\n",
       "      <td>2022</td>\n",
       "      <td>9</td>\n",
       "      <td>63,315</td>\n",
       "      <td>131,071</td>\n",
       "      <td>NaN</td>\n",
       "      <td>115,906</td>\n",
       "      <td>143.0</td>\n",
       "    </tr>\n",
       "    <tr>\n",
       "      <th>2</th>\n",
       "      <td>2022</td>\n",
       "      <td>8</td>\n",
       "      <td>68,659</td>\n",
       "      <td>132,676</td>\n",
       "      <td>NaN</td>\n",
       "      <td>115,879</td>\n",
       "      <td>42.0</td>\n",
       "    </tr>\n",
       "    <tr>\n",
       "      <th>3</th>\n",
       "      <td>2022</td>\n",
       "      <td>7</td>\n",
       "      <td>74,674</td>\n",
       "      <td>111,849</td>\n",
       "      <td>NaN</td>\n",
       "      <td>111,521</td>\n",
       "      <td>27.0</td>\n",
       "    </tr>\n",
       "    <tr>\n",
       "      <th>4</th>\n",
       "      <td>2022</td>\n",
       "      <td>6</td>\n",
       "      <td>77,276</td>\n",
       "      <td>120,505</td>\n",
       "      <td>NaN</td>\n",
       "      <td>115,937</td>\n",
       "      <td>54.0</td>\n",
       "    </tr>\n",
       "  </tbody>\n",
       "</table>\n",
       "</div>"
      ],
      "text/plain": [
       "    Año  Mes Personal    Claro  Nextel Movistar  Otros\n",
       "0  2022   10   60,855  117,430     NaN  119,716  153.0\n",
       "1  2022    9   63,315  131,071     NaN  115,906  143.0\n",
       "2  2022    8   68,659  132,676     NaN  115,879   42.0\n",
       "3  2022    7   74,674  111,849     NaN  111,521   27.0\n",
       "4  2022    6   77,276  120,505     NaN  115,937   54.0"
      ]
     },
     "execution_count": 34,
     "metadata": {},
     "output_type": "execute_result"
    }
   ],
   "source": [
    "porta_uno.head()"
   ]
  },
  {
   "cell_type": "code",
   "execution_count": 35,
   "metadata": {},
   "outputs": [
    {
     "name": "stdout",
     "output_type": "stream",
     "text": [
      "<class 'pandas.core.frame.DataFrame'>\n",
      "RangeIndex: 128 entries, 0 to 127\n",
      "Data columns (total 7 columns):\n",
      " #   Column    Non-Null Count  Dtype  \n",
      "---  ------    --------------  -----  \n",
      " 0   Año       128 non-null    int64  \n",
      " 1   Mes       128 non-null    int64  \n",
      " 2   Personal  128 non-null    object \n",
      " 3   Claro     128 non-null    object \n",
      " 4   Nextel    78 non-null     float64\n",
      " 5   Movistar  128 non-null    object \n",
      " 6   Otros     8 non-null      float64\n",
      "dtypes: float64(2), int64(2), object(3)\n",
      "memory usage: 7.1+ KB\n"
     ]
    }
   ],
   "source": [
    "porta_uno.info()"
   ]
  },
  {
   "attachments": {},
   "cell_type": "markdown",
   "metadata": {},
   "source": [
    "#### Portabilidad 2"
   ]
  },
  {
   "cell_type": "code",
   "execution_count": 36,
   "metadata": {},
   "outputs": [],
   "source": [
    "porta_dos = pd.read_csv('Datasets/Opcionales/Telefonía Movil/Portabilidad (1).csv')"
   ]
  },
  {
   "cell_type": "code",
   "execution_count": 37,
   "metadata": {},
   "outputs": [
    {
     "data": {
      "text/html": [
       "<div>\n",
       "<style scoped>\n",
       "    .dataframe tbody tr th:only-of-type {\n",
       "        vertical-align: middle;\n",
       "    }\n",
       "\n",
       "    .dataframe tbody tr th {\n",
       "        vertical-align: top;\n",
       "    }\n",
       "\n",
       "    .dataframe thead th {\n",
       "        text-align: right;\n",
       "    }\n",
       "</style>\n",
       "<table border=\"1\" class=\"dataframe\">\n",
       "  <thead>\n",
       "    <tr style=\"text-align: right;\">\n",
       "      <th></th>\n",
       "      <th>Año</th>\n",
       "      <th>Mes</th>\n",
       "      <th>Personal</th>\n",
       "      <th>Claro</th>\n",
       "      <th>Nextel</th>\n",
       "      <th>Movistar</th>\n",
       "      <th>Otros</th>\n",
       "      <th>Periodo</th>\n",
       "    </tr>\n",
       "  </thead>\n",
       "  <tbody>\n",
       "    <tr>\n",
       "      <th>0</th>\n",
       "      <td>2012</td>\n",
       "      <td>3</td>\n",
       "      <td>-17</td>\n",
       "      <td>19</td>\n",
       "      <td>0</td>\n",
       "      <td>-2</td>\n",
       "      <td>NaN</td>\n",
       "      <td>Mar-12</td>\n",
       "    </tr>\n",
       "    <tr>\n",
       "      <th>1</th>\n",
       "      <td>2012</td>\n",
       "      <td>4</td>\n",
       "      <td>3,508</td>\n",
       "      <td>-1,134</td>\n",
       "      <td>-189</td>\n",
       "      <td>-2,185</td>\n",
       "      <td>NaN</td>\n",
       "      <td>Apr-12</td>\n",
       "    </tr>\n",
       "    <tr>\n",
       "      <th>2</th>\n",
       "      <td>2012</td>\n",
       "      <td>5</td>\n",
       "      <td>1,253</td>\n",
       "      <td>4,792</td>\n",
       "      <td>-853</td>\n",
       "      <td>-5,192</td>\n",
       "      <td>NaN</td>\n",
       "      <td>May-12</td>\n",
       "    </tr>\n",
       "    <tr>\n",
       "      <th>3</th>\n",
       "      <td>2012</td>\n",
       "      <td>6</td>\n",
       "      <td>3,263</td>\n",
       "      <td>-1,248</td>\n",
       "      <td>-848</td>\n",
       "      <td>-1,167</td>\n",
       "      <td>NaN</td>\n",
       "      <td>Jun-12</td>\n",
       "    </tr>\n",
       "    <tr>\n",
       "      <th>4</th>\n",
       "      <td>2012</td>\n",
       "      <td>7</td>\n",
       "      <td>5,554</td>\n",
       "      <td>-3,847</td>\n",
       "      <td>-1,105</td>\n",
       "      <td>-602</td>\n",
       "      <td>NaN</td>\n",
       "      <td>Jul-12</td>\n",
       "    </tr>\n",
       "  </tbody>\n",
       "</table>\n",
       "</div>"
      ],
      "text/plain": [
       "    Año  Mes Personal   Claro  Nextel Movistar  Otros Periodo\n",
       "0  2012    3      -17      19       0       -2    NaN  Mar-12\n",
       "1  2012    4    3,508  -1,134    -189   -2,185    NaN  Apr-12\n",
       "2  2012    5    1,253   4,792    -853   -5,192    NaN  May-12\n",
       "3  2012    6    3,263  -1,248    -848   -1,167    NaN  Jun-12\n",
       "4  2012    7    5,554  -3,847  -1,105     -602    NaN  Jul-12"
      ]
     },
     "execution_count": 37,
     "metadata": {},
     "output_type": "execute_result"
    }
   ],
   "source": [
    "porta_dos.head()"
   ]
  },
  {
   "cell_type": "code",
   "execution_count": 38,
   "metadata": {},
   "outputs": [
    {
     "name": "stdout",
     "output_type": "stream",
     "text": [
      "<class 'pandas.core.frame.DataFrame'>\n",
      "RangeIndex: 128 entries, 0 to 127\n",
      "Data columns (total 8 columns):\n",
      " #   Column    Non-Null Count  Dtype  \n",
      "---  ------    --------------  -----  \n",
      " 0   Año       128 non-null    int64  \n",
      " 1   Mes       128 non-null    int64  \n",
      " 2   Personal  128 non-null    object \n",
      " 3   Claro     128 non-null    object \n",
      " 4   Nextel    70 non-null     object \n",
      " 5   Movistar  128 non-null    object \n",
      " 6   Otros     8 non-null      float64\n",
      " 7   Periodo   128 non-null    object \n",
      "dtypes: float64(1), int64(2), object(5)\n",
      "memory usage: 8.1+ KB\n"
     ]
    }
   ],
   "source": [
    "porta_dos.info()"
   ]
  },
  {
   "attachments": {},
   "cell_type": "markdown",
   "metadata": {},
   "source": [
    "#### Telefonía Móvil 1"
   ]
  },
  {
   "cell_type": "code",
   "execution_count": 39,
   "metadata": {},
   "outputs": [],
   "source": [
    "tel_movil_uno = pd.read_csv('Datasets/Opcionales/Telefonía Movil/Telefonia_movil.csv')"
   ]
  },
  {
   "cell_type": "code",
   "execution_count": 40,
   "metadata": {},
   "outputs": [
    {
     "data": {
      "text/html": [
       "<div>\n",
       "<style scoped>\n",
       "    .dataframe tbody tr th:only-of-type {\n",
       "        vertical-align: middle;\n",
       "    }\n",
       "\n",
       "    .dataframe tbody tr th {\n",
       "        vertical-align: top;\n",
       "    }\n",
       "\n",
       "    .dataframe thead th {\n",
       "        text-align: right;\n",
       "    }\n",
       "</style>\n",
       "<table border=\"1\" class=\"dataframe\">\n",
       "  <thead>\n",
       "    <tr style=\"text-align: right;\">\n",
       "      <th></th>\n",
       "      <th>Año</th>\n",
       "      <th>Trimestre</th>\n",
       "      <th>Accesos por cada 100 hab</th>\n",
       "      <th>Periodo</th>\n",
       "    </tr>\n",
       "  </thead>\n",
       "  <tbody>\n",
       "    <tr>\n",
       "      <th>0</th>\n",
       "      <td>2013</td>\n",
       "      <td>1</td>\n",
       "      <td>154</td>\n",
       "      <td>Ene-Mar 2013</td>\n",
       "    </tr>\n",
       "    <tr>\n",
       "      <th>1</th>\n",
       "      <td>2013</td>\n",
       "      <td>2</td>\n",
       "      <td>156</td>\n",
       "      <td>Abr-Jun 2013</td>\n",
       "    </tr>\n",
       "    <tr>\n",
       "      <th>2</th>\n",
       "      <td>2013</td>\n",
       "      <td>3</td>\n",
       "      <td>159</td>\n",
       "      <td>Jul-Sept 2013</td>\n",
       "    </tr>\n",
       "    <tr>\n",
       "      <th>3</th>\n",
       "      <td>2013</td>\n",
       "      <td>4</td>\n",
       "      <td>159</td>\n",
       "      <td>Oct-Dic 2013</td>\n",
       "    </tr>\n",
       "    <tr>\n",
       "      <th>4</th>\n",
       "      <td>2014</td>\n",
       "      <td>1</td>\n",
       "      <td>148</td>\n",
       "      <td>Ene-Mar 2014</td>\n",
       "    </tr>\n",
       "  </tbody>\n",
       "</table>\n",
       "</div>"
      ],
      "text/plain": [
       "    Año  Trimestre  Accesos por cada 100 hab        Periodo\n",
       "0  2013          1                       154   Ene-Mar 2013\n",
       "1  2013          2                       156   Abr-Jun 2013\n",
       "2  2013          3                       159  Jul-Sept 2013\n",
       "3  2013          4                       159   Oct-Dic 2013\n",
       "4  2014          1                       148   Ene-Mar 2014"
      ]
     },
     "execution_count": 40,
     "metadata": {},
     "output_type": "execute_result"
    }
   ],
   "source": [
    "tel_movil_uno.head()"
   ]
  },
  {
   "cell_type": "code",
   "execution_count": 41,
   "metadata": {},
   "outputs": [
    {
     "name": "stdout",
     "output_type": "stream",
     "text": [
      "<class 'pandas.core.frame.DataFrame'>\n",
      "RangeIndex: 39 entries, 0 to 38\n",
      "Data columns (total 4 columns):\n",
      " #   Column                    Non-Null Count  Dtype \n",
      "---  ------                    --------------  ----- \n",
      " 0   Año                       39 non-null     int64 \n",
      " 1   Trimestre                 39 non-null     int64 \n",
      " 2   Accesos por cada 100 hab  39 non-null     int64 \n",
      " 3   Periodo                   39 non-null     object\n",
      "dtypes: int64(3), object(1)\n",
      "memory usage: 1.3+ KB\n"
     ]
    }
   ],
   "source": [
    "tel_movil_uno.info()"
   ]
  },
  {
   "attachments": {},
   "cell_type": "markdown",
   "metadata": {},
   "source": [
    "#### Telefonía Móvil 2"
   ]
  },
  {
   "cell_type": "code",
   "execution_count": 42,
   "metadata": {},
   "outputs": [],
   "source": [
    "tel_movil_dos = pd.read_csv('Datasets/Opcionales/Telefonía Movil/Telefonia_movil (1).csv')"
   ]
  },
  {
   "cell_type": "code",
   "execution_count": 43,
   "metadata": {},
   "outputs": [
    {
     "data": {
      "text/html": [
       "<div>\n",
       "<style scoped>\n",
       "    .dataframe tbody tr th:only-of-type {\n",
       "        vertical-align: middle;\n",
       "    }\n",
       "\n",
       "    .dataframe tbody tr th {\n",
       "        vertical-align: top;\n",
       "    }\n",
       "\n",
       "    .dataframe thead th {\n",
       "        text-align: right;\n",
       "    }\n",
       "</style>\n",
       "<table border=\"1\" class=\"dataframe\">\n",
       "  <thead>\n",
       "    <tr style=\"text-align: right;\">\n",
       "      <th></th>\n",
       "      <th>Año</th>\n",
       "      <th>Trimestre</th>\n",
       "      <th>Total de accesos pospago</th>\n",
       "      <th>Total de accesos prepago</th>\n",
       "      <th>Total de accesos operativos</th>\n",
       "      <th>Periodo</th>\n",
       "    </tr>\n",
       "  </thead>\n",
       "  <tbody>\n",
       "    <tr>\n",
       "      <th>0</th>\n",
       "      <td>2013</td>\n",
       "      <td>1</td>\n",
       "      <td>7.761.349</td>\n",
       "      <td>57.147.608</td>\n",
       "      <td>64.908.957</td>\n",
       "      <td>Ene-Mar 2013</td>\n",
       "    </tr>\n",
       "    <tr>\n",
       "      <th>1</th>\n",
       "      <td>2013</td>\n",
       "      <td>2</td>\n",
       "      <td>7.769.110</td>\n",
       "      <td>58.004.822</td>\n",
       "      <td>65.773.932</td>\n",
       "      <td>Abr-Jun 2013</td>\n",
       "    </tr>\n",
       "    <tr>\n",
       "      <th>2</th>\n",
       "      <td>2013</td>\n",
       "      <td>3</td>\n",
       "      <td>8.002.183</td>\n",
       "      <td>59.048.909</td>\n",
       "      <td>67.051.092</td>\n",
       "      <td>Jul-Sept 2013</td>\n",
       "    </tr>\n",
       "    <tr>\n",
       "      <th>3</th>\n",
       "      <td>2013</td>\n",
       "      <td>4</td>\n",
       "      <td>8.674.516</td>\n",
       "      <td>58.894.516</td>\n",
       "      <td>67.569.032</td>\n",
       "      <td>Oct-Dic 2013</td>\n",
       "    </tr>\n",
       "    <tr>\n",
       "      <th>4</th>\n",
       "      <td>2014</td>\n",
       "      <td>1</td>\n",
       "      <td>8.224.482</td>\n",
       "      <td>54.725.089</td>\n",
       "      <td>62.949.571</td>\n",
       "      <td>Ene-Mar 2013</td>\n",
       "    </tr>\n",
       "  </tbody>\n",
       "</table>\n",
       "</div>"
      ],
      "text/plain": [
       "    Año  Trimestre Total de accesos pospago Total de accesos prepago   \n",
       "0  2013          1                7.761.349               57.147.608  \\\n",
       "1  2013          2                7.769.110               58.004.822   \n",
       "2  2013          3                8.002.183               59.048.909   \n",
       "3  2013          4                8.674.516               58.894.516   \n",
       "4  2014          1                8.224.482               54.725.089   \n",
       "\n",
       "  Total de accesos operativos        Periodo  \n",
       "0                  64.908.957   Ene-Mar 2013  \n",
       "1                  65.773.932   Abr-Jun 2013  \n",
       "2                  67.051.092  Jul-Sept 2013  \n",
       "3                  67.569.032   Oct-Dic 2013  \n",
       "4                  62.949.571   Ene-Mar 2013  "
      ]
     },
     "execution_count": 43,
     "metadata": {},
     "output_type": "execute_result"
    }
   ],
   "source": [
    "tel_movil_dos.head()"
   ]
  },
  {
   "cell_type": "code",
   "execution_count": 44,
   "metadata": {},
   "outputs": [
    {
     "name": "stdout",
     "output_type": "stream",
     "text": [
      "<class 'pandas.core.frame.DataFrame'>\n",
      "RangeIndex: 39 entries, 0 to 38\n",
      "Data columns (total 6 columns):\n",
      " #   Column                       Non-Null Count  Dtype \n",
      "---  ------                       --------------  ----- \n",
      " 0   Año                          39 non-null     int64 \n",
      " 1   Trimestre                    39 non-null     int64 \n",
      " 2   Total de accesos pospago     39 non-null     object\n",
      " 3   Total de accesos prepago     39 non-null     object\n",
      " 4   Total de accesos operativos  39 non-null     object\n",
      " 5   Periodo                      39 non-null     object\n",
      "dtypes: int64(2), object(4)\n",
      "memory usage: 2.0+ KB\n"
     ]
    }
   ],
   "source": [
    "tel_movil_dos.info()"
   ]
  },
  {
   "attachments": {},
   "cell_type": "markdown",
   "metadata": {},
   "source": [
    "#### Telefonía Móvil 3"
   ]
  },
  {
   "cell_type": "code",
   "execution_count": 45,
   "metadata": {},
   "outputs": [],
   "source": [
    "tel_movil_tres = pd.read_csv('Datasets/Opcionales/Telefonía Movil/Telefonia_movil (2).csv')"
   ]
  },
  {
   "cell_type": "code",
   "execution_count": 46,
   "metadata": {},
   "outputs": [
    {
     "data": {
      "text/html": [
       "<div>\n",
       "<style scoped>\n",
       "    .dataframe tbody tr th:only-of-type {\n",
       "        vertical-align: middle;\n",
       "    }\n",
       "\n",
       "    .dataframe tbody tr th {\n",
       "        vertical-align: top;\n",
       "    }\n",
       "\n",
       "    .dataframe thead th {\n",
       "        text-align: right;\n",
       "    }\n",
       "</style>\n",
       "<table border=\"1\" class=\"dataframe\">\n",
       "  <thead>\n",
       "    <tr style=\"text-align: right;\">\n",
       "      <th></th>\n",
       "      <th>Año</th>\n",
       "      <th>Trimestre</th>\n",
       "      <th>Llamadas pospago salientes (miles)</th>\n",
       "      <th>Llamadas prepago salientes (miles)</th>\n",
       "      <th>Total de llamadas salientes (miles)</th>\n",
       "      <th>Periodo</th>\n",
       "    </tr>\n",
       "  </thead>\n",
       "  <tbody>\n",
       "    <tr>\n",
       "      <th>0</th>\n",
       "      <td>2013</td>\n",
       "      <td>1</td>\n",
       "      <td>3.796.547</td>\n",
       "      <td>3412766</td>\n",
       "      <td>7209313</td>\n",
       "      <td>Ene-Mar 2013</td>\n",
       "    </tr>\n",
       "    <tr>\n",
       "      <th>1</th>\n",
       "      <td>2013</td>\n",
       "      <td>2</td>\n",
       "      <td>4.156.872</td>\n",
       "      <td>3699387</td>\n",
       "      <td>7856258</td>\n",
       "      <td>Abr-Jun 2013</td>\n",
       "    </tr>\n",
       "    <tr>\n",
       "      <th>2</th>\n",
       "      <td>2013</td>\n",
       "      <td>3</td>\n",
       "      <td>4.466.727</td>\n",
       "      <td>3814925</td>\n",
       "      <td>8281653</td>\n",
       "      <td>Jul-Sept 2013</td>\n",
       "    </tr>\n",
       "    <tr>\n",
       "      <th>3</th>\n",
       "      <td>2013</td>\n",
       "      <td>4</td>\n",
       "      <td>4.743.791</td>\n",
       "      <td>3906876</td>\n",
       "      <td>8650667</td>\n",
       "      <td>Oct-Dic 2013</td>\n",
       "    </tr>\n",
       "    <tr>\n",
       "      <th>4</th>\n",
       "      <td>2014</td>\n",
       "      <td>1</td>\n",
       "      <td>4.001.399</td>\n",
       "      <td>3589181</td>\n",
       "      <td>7590580</td>\n",
       "      <td>Ene-Mar 2013</td>\n",
       "    </tr>\n",
       "  </tbody>\n",
       "</table>\n",
       "</div>"
      ],
      "text/plain": [
       "    Año  Trimestre Llamadas pospago salientes (miles)   \n",
       "0  2013          1                          3.796.547  \\\n",
       "1  2013          2                          4.156.872   \n",
       "2  2013          3                          4.466.727   \n",
       "3  2013          4                          4.743.791   \n",
       "4  2014          1                          4.001.399   \n",
       "\n",
       "   Llamadas prepago salientes (miles)  Total de llamadas salientes (miles)   \n",
       "0                             3412766                              7209313  \\\n",
       "1                             3699387                              7856258   \n",
       "2                             3814925                              8281653   \n",
       "3                             3906876                              8650667   \n",
       "4                             3589181                              7590580   \n",
       "\n",
       "         Periodo  \n",
       "0   Ene-Mar 2013  \n",
       "1   Abr-Jun 2013  \n",
       "2  Jul-Sept 2013  \n",
       "3   Oct-Dic 2013  \n",
       "4   Ene-Mar 2013  "
      ]
     },
     "execution_count": 46,
     "metadata": {},
     "output_type": "execute_result"
    }
   ],
   "source": [
    "tel_movil_tres.head()"
   ]
  },
  {
   "cell_type": "code",
   "execution_count": 47,
   "metadata": {},
   "outputs": [
    {
     "name": "stdout",
     "output_type": "stream",
     "text": [
      "<class 'pandas.core.frame.DataFrame'>\n",
      "RangeIndex: 39 entries, 0 to 38\n",
      "Data columns (total 6 columns):\n",
      " #   Column                               Non-Null Count  Dtype \n",
      "---  ------                               --------------  ----- \n",
      " 0   Año                                  39 non-null     int64 \n",
      " 1   Trimestre                            39 non-null     int64 \n",
      " 2   Llamadas pospago salientes (miles)   39 non-null     object\n",
      " 3   Llamadas prepago salientes (miles)   39 non-null     int64 \n",
      " 4   Total de llamadas salientes (miles)  39 non-null     int64 \n",
      " 5   Periodo                              39 non-null     object\n",
      "dtypes: int64(4), object(2)\n",
      "memory usage: 2.0+ KB\n"
     ]
    }
   ],
   "source": [
    "tel_movil_tres.info()"
   ]
  },
  {
   "attachments": {},
   "cell_type": "markdown",
   "metadata": {},
   "source": [
    "#### Telefonía Móvil 4"
   ]
  },
  {
   "cell_type": "code",
   "execution_count": 48,
   "metadata": {},
   "outputs": [],
   "source": [
    "tel_movil_cuatro = pd.read_csv('Datasets/Opcionales/Telefonía Movil/Telefonia_movil (3).csv')"
   ]
  },
  {
   "cell_type": "code",
   "execution_count": 49,
   "metadata": {},
   "outputs": [
    {
     "data": {
      "text/html": [
       "<div>\n",
       "<style scoped>\n",
       "    .dataframe tbody tr th:only-of-type {\n",
       "        vertical-align: middle;\n",
       "    }\n",
       "\n",
       "    .dataframe tbody tr th {\n",
       "        vertical-align: top;\n",
       "    }\n",
       "\n",
       "    .dataframe thead th {\n",
       "        text-align: right;\n",
       "    }\n",
       "</style>\n",
       "<table border=\"1\" class=\"dataframe\">\n",
       "  <thead>\n",
       "    <tr style=\"text-align: right;\">\n",
       "      <th></th>\n",
       "      <th>Año</th>\n",
       "      <th>Trimestre</th>\n",
       "      <th>Minutos pospago salientes (miles)</th>\n",
       "      <th>Minutos prepago salientes (miles)</th>\n",
       "      <th>Total de minutos salientes (miles)</th>\n",
       "      <th>Periodo</th>\n",
       "    </tr>\n",
       "  </thead>\n",
       "  <tbody>\n",
       "    <tr>\n",
       "      <th>0</th>\n",
       "      <td>2013</td>\n",
       "      <td>1</td>\n",
       "      <td>8.785.943</td>\n",
       "      <td>6582117</td>\n",
       "      <td>15368060</td>\n",
       "      <td>Ene-Mar 2013</td>\n",
       "    </tr>\n",
       "    <tr>\n",
       "      <th>1</th>\n",
       "      <td>2013</td>\n",
       "      <td>2</td>\n",
       "      <td>9.512.689</td>\n",
       "      <td>7108640</td>\n",
       "      <td>16621329</td>\n",
       "      <td>Abr-Jun 2013</td>\n",
       "    </tr>\n",
       "    <tr>\n",
       "      <th>2</th>\n",
       "      <td>2013</td>\n",
       "      <td>3</td>\n",
       "      <td>10.315.484</td>\n",
       "      <td>7335154</td>\n",
       "      <td>17650638</td>\n",
       "      <td>Jul-Sept 2013</td>\n",
       "    </tr>\n",
       "    <tr>\n",
       "      <th>3</th>\n",
       "      <td>2013</td>\n",
       "      <td>4</td>\n",
       "      <td>9.809.515</td>\n",
       "      <td>6250549</td>\n",
       "      <td>16060064</td>\n",
       "      <td>Oct-Dic 2013</td>\n",
       "    </tr>\n",
       "    <tr>\n",
       "      <th>4</th>\n",
       "      <td>2014</td>\n",
       "      <td>1</td>\n",
       "      <td>10.128.751</td>\n",
       "      <td>5799223</td>\n",
       "      <td>15927974</td>\n",
       "      <td>Ene-Mar 2013</td>\n",
       "    </tr>\n",
       "  </tbody>\n",
       "</table>\n",
       "</div>"
      ],
      "text/plain": [
       "    Año  Trimestre Minutos pospago salientes (miles)   \n",
       "0  2013          1                         8.785.943  \\\n",
       "1  2013          2                         9.512.689   \n",
       "2  2013          3                        10.315.484   \n",
       "3  2013          4                         9.809.515   \n",
       "4  2014          1                        10.128.751   \n",
       "\n",
       "   Minutos prepago salientes (miles)  Total de minutos salientes (miles)   \n",
       "0                            6582117                            15368060  \\\n",
       "1                            7108640                            16621329   \n",
       "2                            7335154                            17650638   \n",
       "3                            6250549                            16060064   \n",
       "4                            5799223                            15927974   \n",
       "\n",
       "         Periodo  \n",
       "0   Ene-Mar 2013  \n",
       "1   Abr-Jun 2013  \n",
       "2  Jul-Sept 2013  \n",
       "3   Oct-Dic 2013  \n",
       "4   Ene-Mar 2013  "
      ]
     },
     "execution_count": 49,
     "metadata": {},
     "output_type": "execute_result"
    }
   ],
   "source": [
    "tel_movil_cuatro.head()"
   ]
  },
  {
   "cell_type": "code",
   "execution_count": 50,
   "metadata": {},
   "outputs": [
    {
     "name": "stdout",
     "output_type": "stream",
     "text": [
      "<class 'pandas.core.frame.DataFrame'>\n",
      "RangeIndex: 39 entries, 0 to 38\n",
      "Data columns (total 6 columns):\n",
      " #   Column                              Non-Null Count  Dtype \n",
      "---  ------                              --------------  ----- \n",
      " 0   Año                                 39 non-null     int64 \n",
      " 1   Trimestre                           39 non-null     int64 \n",
      " 2   Minutos pospago salientes (miles)   39 non-null     object\n",
      " 3   Minutos prepago salientes (miles)   39 non-null     int64 \n",
      " 4   Total de minutos salientes (miles)  39 non-null     int64 \n",
      " 5   Periodo                             39 non-null     object\n",
      "dtypes: int64(4), object(2)\n",
      "memory usage: 2.0+ KB\n"
     ]
    }
   ],
   "source": [
    "tel_movil_cuatro.info()"
   ]
  },
  {
   "attachments": {},
   "cell_type": "markdown",
   "metadata": {},
   "source": [
    "#### Telefonía Móvil 5"
   ]
  },
  {
   "cell_type": "code",
   "execution_count": 51,
   "metadata": {},
   "outputs": [],
   "source": [
    "tel_movil_cinco = pd.read_csv('/Volumes/KINGSTON/Henry/Proyecto 2/PI_DA/Datasets/Opcionales/Telefonía Movil/Telefonia_movil (4).csv')"
   ]
  },
  {
   "cell_type": "code",
   "execution_count": 52,
   "metadata": {},
   "outputs": [
    {
     "data": {
      "text/html": [
       "<div>\n",
       "<style scoped>\n",
       "    .dataframe tbody tr th:only-of-type {\n",
       "        vertical-align: middle;\n",
       "    }\n",
       "\n",
       "    .dataframe tbody tr th {\n",
       "        vertical-align: top;\n",
       "    }\n",
       "\n",
       "    .dataframe thead th {\n",
       "        text-align: right;\n",
       "    }\n",
       "</style>\n",
       "<table border=\"1\" class=\"dataframe\">\n",
       "  <thead>\n",
       "    <tr style=\"text-align: right;\">\n",
       "      <th></th>\n",
       "      <th>Año</th>\n",
       "      <th>Trimestre</th>\n",
       "      <th>Ingresos (miles de $)</th>\n",
       "      <th>Periodo</th>\n",
       "    </tr>\n",
       "  </thead>\n",
       "  <tbody>\n",
       "    <tr>\n",
       "      <th>0</th>\n",
       "      <td>2013</td>\n",
       "      <td>1</td>\n",
       "      <td>$ 13.135.235</td>\n",
       "      <td>Ene-Mar 2013</td>\n",
       "    </tr>\n",
       "    <tr>\n",
       "      <th>1</th>\n",
       "      <td>2013</td>\n",
       "      <td>2</td>\n",
       "      <td>$ 13.970.806</td>\n",
       "      <td>Abr-Jun 2013</td>\n",
       "    </tr>\n",
       "    <tr>\n",
       "      <th>2</th>\n",
       "      <td>2013</td>\n",
       "      <td>3</td>\n",
       "      <td>$ 15.235.659</td>\n",
       "      <td>Jul-Sept 2013</td>\n",
       "    </tr>\n",
       "    <tr>\n",
       "      <th>3</th>\n",
       "      <td>2013</td>\n",
       "      <td>4</td>\n",
       "      <td>$ 16.218.846</td>\n",
       "      <td>Oct-Dic 2013</td>\n",
       "    </tr>\n",
       "    <tr>\n",
       "      <th>4</th>\n",
       "      <td>2014</td>\n",
       "      <td>1</td>\n",
       "      <td>$ 15.938.353</td>\n",
       "      <td>Ene-Mar 2013</td>\n",
       "    </tr>\n",
       "  </tbody>\n",
       "</table>\n",
       "</div>"
      ],
      "text/plain": [
       "    Año  Trimestre Ingresos (miles de $)        Periodo\n",
       "0  2013          1          $ 13.135.235   Ene-Mar 2013\n",
       "1  2013          2          $ 13.970.806   Abr-Jun 2013\n",
       "2  2013          3          $ 15.235.659  Jul-Sept 2013\n",
       "3  2013          4          $ 16.218.846   Oct-Dic 2013\n",
       "4  2014          1          $ 15.938.353   Ene-Mar 2013"
      ]
     },
     "execution_count": 52,
     "metadata": {},
     "output_type": "execute_result"
    }
   ],
   "source": [
    "tel_movil_cinco.head()"
   ]
  },
  {
   "cell_type": "code",
   "execution_count": 53,
   "metadata": {},
   "outputs": [
    {
     "name": "stdout",
     "output_type": "stream",
     "text": [
      "<class 'pandas.core.frame.DataFrame'>\n",
      "RangeIndex: 39 entries, 0 to 38\n",
      "Data columns (total 4 columns):\n",
      " #   Column                 Non-Null Count  Dtype \n",
      "---  ------                 --------------  ----- \n",
      " 0   Año                    39 non-null     int64 \n",
      " 1   Trimestre              39 non-null     int64 \n",
      " 2   Ingresos (miles de $)  39 non-null     object\n",
      " 3   Periodo                39 non-null     object\n",
      "dtypes: int64(2), object(2)\n",
      "memory usage: 1.3+ KB\n"
     ]
    }
   ],
   "source": [
    "tel_movil_cinco.info()"
   ]
  },
  {
   "attachments": {},
   "cell_type": "markdown",
   "metadata": {},
   "source": [
    "#### Telefonía Móvil 6"
   ]
  },
  {
   "cell_type": "code",
   "execution_count": 54,
   "metadata": {},
   "outputs": [],
   "source": [
    "tel_movil_seis = pd.read_csv('/Volumes/KINGSTON/Henry/Proyecto 2/PI_DA/Datasets/Opcionales/Telefonía Movil/Telefonia_movil (5).csv')"
   ]
  },
  {
   "cell_type": "code",
   "execution_count": 55,
   "metadata": {},
   "outputs": [
    {
     "data": {
      "text/html": [
       "<div>\n",
       "<style scoped>\n",
       "    .dataframe tbody tr th:only-of-type {\n",
       "        vertical-align: middle;\n",
       "    }\n",
       "\n",
       "    .dataframe tbody tr th {\n",
       "        vertical-align: top;\n",
       "    }\n",
       "\n",
       "    .dataframe thead th {\n",
       "        text-align: right;\n",
       "    }\n",
       "</style>\n",
       "<table border=\"1\" class=\"dataframe\">\n",
       "  <thead>\n",
       "    <tr style=\"text-align: right;\">\n",
       "      <th></th>\n",
       "      <th>Año</th>\n",
       "      <th>Trimestre</th>\n",
       "      <th>Número de SMS salientes</th>\n",
       "      <th>Periodo</th>\n",
       "    </tr>\n",
       "  </thead>\n",
       "  <tbody>\n",
       "    <tr>\n",
       "      <th>0</th>\n",
       "      <td>2013</td>\n",
       "      <td>1</td>\n",
       "      <td>36.430.004.057</td>\n",
       "      <td>Ene-Mar 2013</td>\n",
       "    </tr>\n",
       "    <tr>\n",
       "      <th>1</th>\n",
       "      <td>2013</td>\n",
       "      <td>2</td>\n",
       "      <td>34.255.065.773</td>\n",
       "      <td>Abr-Jun 2013</td>\n",
       "    </tr>\n",
       "    <tr>\n",
       "      <th>2</th>\n",
       "      <td>2013</td>\n",
       "      <td>3</td>\n",
       "      <td>33.217.669.903</td>\n",
       "      <td>Jul-Sept 2013</td>\n",
       "    </tr>\n",
       "    <tr>\n",
       "      <th>3</th>\n",
       "      <td>2013</td>\n",
       "      <td>4</td>\n",
       "      <td>22.547.130.953</td>\n",
       "      <td>Oct-Dic 2013</td>\n",
       "    </tr>\n",
       "    <tr>\n",
       "      <th>4</th>\n",
       "      <td>2014</td>\n",
       "      <td>1</td>\n",
       "      <td>18.393.198.881</td>\n",
       "      <td>Ene-Mar 2013</td>\n",
       "    </tr>\n",
       "  </tbody>\n",
       "</table>\n",
       "</div>"
      ],
      "text/plain": [
       "    Año  Trimestre Número de SMS salientes        Periodo\n",
       "0  2013          1          36.430.004.057   Ene-Mar 2013\n",
       "1  2013          2          34.255.065.773   Abr-Jun 2013\n",
       "2  2013          3          33.217.669.903  Jul-Sept 2013\n",
       "3  2013          4          22.547.130.953   Oct-Dic 2013\n",
       "4  2014          1          18.393.198.881   Ene-Mar 2013"
      ]
     },
     "execution_count": 55,
     "metadata": {},
     "output_type": "execute_result"
    }
   ],
   "source": [
    "tel_movil_seis.head()"
   ]
  },
  {
   "cell_type": "code",
   "execution_count": 56,
   "metadata": {},
   "outputs": [
    {
     "name": "stdout",
     "output_type": "stream",
     "text": [
      "<class 'pandas.core.frame.DataFrame'>\n",
      "RangeIndex: 39 entries, 0 to 38\n",
      "Data columns (total 4 columns):\n",
      " #   Column                   Non-Null Count  Dtype \n",
      "---  ------                   --------------  ----- \n",
      " 0   Año                      39 non-null     int64 \n",
      " 1   Trimestre                39 non-null     int64 \n",
      " 2   Número de SMS salientes  39 non-null     object\n",
      " 3   Periodo                  39 non-null     object\n",
      "dtypes: int64(2), object(2)\n",
      "memory usage: 1.3+ KB\n"
     ]
    }
   ],
   "source": [
    "tel_movil_seis.info()"
   ]
  },
  {
   "attachments": {},
   "cell_type": "markdown",
   "metadata": {},
   "source": [
    "# Televisión Paga"
   ]
  },
  {
   "attachments": {},
   "cell_type": "markdown",
   "metadata": {},
   "source": [
    "#### Archivo 1"
   ]
  },
  {
   "cell_type": "code",
   "execution_count": 57,
   "metadata": {},
   "outputs": [],
   "source": [
    "tele_paga_uno = pd.read_csv('/Volumes/KINGSTON/Henry/Proyecto 2/PI_DA/Datasets/Opcionales/Televisión de Paga/Television.csv')\n"
   ]
  },
  {
   "cell_type": "code",
   "execution_count": 58,
   "metadata": {},
   "outputs": [
    {
     "data": {
      "text/html": [
       "<div>\n",
       "<style scoped>\n",
       "    .dataframe tbody tr th:only-of-type {\n",
       "        vertical-align: middle;\n",
       "    }\n",
       "\n",
       "    .dataframe tbody tr th {\n",
       "        vertical-align: top;\n",
       "    }\n",
       "\n",
       "    .dataframe thead th {\n",
       "        text-align: right;\n",
       "    }\n",
       "</style>\n",
       "<table border=\"1\" class=\"dataframe\">\n",
       "  <thead>\n",
       "    <tr style=\"text-align: right;\">\n",
       "      <th></th>\n",
       "      <th>Año</th>\n",
       "      <th>Trimestre</th>\n",
       "      <th>Provincia</th>\n",
       "      <th>Accesos TV por suscripción por cada 100 hab</th>\n",
       "      <th>Accesos TV por suscripción por cada 100 hogares</th>\n",
       "    </tr>\n",
       "  </thead>\n",
       "  <tbody>\n",
       "    <tr>\n",
       "      <th>0</th>\n",
       "      <td>2022</td>\n",
       "      <td>3</td>\n",
       "      <td>Buenos Aires</td>\n",
       "      <td>16,75</td>\n",
       "      <td>49,60</td>\n",
       "    </tr>\n",
       "    <tr>\n",
       "      <th>1</th>\n",
       "      <td>2022</td>\n",
       "      <td>3</td>\n",
       "      <td>Capital Federal</td>\n",
       "      <td>24,12</td>\n",
       "      <td>58,73</td>\n",
       "    </tr>\n",
       "    <tr>\n",
       "      <th>2</th>\n",
       "      <td>2022</td>\n",
       "      <td>3</td>\n",
       "      <td>Catamarca</td>\n",
       "      <td>12,36</td>\n",
       "      <td>48,58</td>\n",
       "    </tr>\n",
       "    <tr>\n",
       "      <th>3</th>\n",
       "      <td>2022</td>\n",
       "      <td>3</td>\n",
       "      <td>Chaco</td>\n",
       "      <td>9,9</td>\n",
       "      <td>37,06</td>\n",
       "    </tr>\n",
       "    <tr>\n",
       "      <th>4</th>\n",
       "      <td>2022</td>\n",
       "      <td>3</td>\n",
       "      <td>Chubut</td>\n",
       "      <td>12,48</td>\n",
       "      <td>40,73</td>\n",
       "    </tr>\n",
       "  </tbody>\n",
       "</table>\n",
       "</div>"
      ],
      "text/plain": [
       "    Año  Trimestre        Provincia   \n",
       "0  2022          3     Buenos Aires  \\\n",
       "1  2022          3  Capital Federal   \n",
       "2  2022          3        Catamarca   \n",
       "3  2022          3            Chaco   \n",
       "4  2022          3           Chubut   \n",
       "\n",
       "  Accesos TV por suscripción por cada 100 hab   \n",
       "0                                       16,75  \\\n",
       "1                                       24,12   \n",
       "2                                       12,36   \n",
       "3                                         9,9   \n",
       "4                                       12,48   \n",
       "\n",
       "  Accesos TV por suscripción por cada 100 hogares  \n",
       "0                                           49,60  \n",
       "1                                           58,73  \n",
       "2                                           48,58  \n",
       "3                                           37,06  \n",
       "4                                           40,73  "
      ]
     },
     "execution_count": 58,
     "metadata": {},
     "output_type": "execute_result"
    }
   ],
   "source": [
    "tele_paga_uno.head()"
   ]
  },
  {
   "cell_type": "code",
   "execution_count": 59,
   "metadata": {},
   "outputs": [
    {
     "name": "stdout",
     "output_type": "stream",
     "text": [
      "<class 'pandas.core.frame.DataFrame'>\n",
      "RangeIndex: 840 entries, 0 to 839\n",
      "Data columns (total 5 columns):\n",
      " #   Column                                           Non-Null Count  Dtype \n",
      "---  ------                                           --------------  ----- \n",
      " 0   Año                                              840 non-null    int64 \n",
      " 1   Trimestre                                        840 non-null    int64 \n",
      " 2   Provincia                                        840 non-null    object\n",
      " 3   Accesos TV por suscripción por cada 100 hab      840 non-null    object\n",
      " 4   Accesos TV por suscripción por cada 100 hogares  840 non-null    object\n",
      "dtypes: int64(2), object(3)\n",
      "memory usage: 32.9+ KB\n"
     ]
    }
   ],
   "source": [
    "tele_paga_uno.info()"
   ]
  },
  {
   "attachments": {},
   "cell_type": "markdown",
   "metadata": {},
   "source": [
    "#### Archivo 2"
   ]
  },
  {
   "cell_type": "code",
   "execution_count": 60,
   "metadata": {},
   "outputs": [],
   "source": [
    "tele_paga_dos = pd.read_csv('/Volumes/KINGSTON/Henry/Proyecto 2/PI_DA/Datasets/Opcionales/Televisión de Paga/Television (1).csv')\n"
   ]
  },
  {
   "cell_type": "code",
   "execution_count": 61,
   "metadata": {},
   "outputs": [
    {
     "data": {
      "text/html": [
       "<div>\n",
       "<style scoped>\n",
       "    .dataframe tbody tr th:only-of-type {\n",
       "        vertical-align: middle;\n",
       "    }\n",
       "\n",
       "    .dataframe tbody tr th {\n",
       "        vertical-align: top;\n",
       "    }\n",
       "\n",
       "    .dataframe thead th {\n",
       "        text-align: right;\n",
       "    }\n",
       "</style>\n",
       "<table border=\"1\" class=\"dataframe\">\n",
       "  <thead>\n",
       "    <tr style=\"text-align: right;\">\n",
       "      <th></th>\n",
       "      <th>Año</th>\n",
       "      <th>Trimestre</th>\n",
       "      <th>Accesos TV por suscripción</th>\n",
       "      <th>Accesos TV satelital</th>\n",
       "      <th>Periodo</th>\n",
       "    </tr>\n",
       "  </thead>\n",
       "  <tbody>\n",
       "    <tr>\n",
       "      <th>0</th>\n",
       "      <td>2022</td>\n",
       "      <td>3</td>\n",
       "      <td>7.665.931</td>\n",
       "      <td>2.064.699</td>\n",
       "      <td>Jul-Sept 2022</td>\n",
       "    </tr>\n",
       "    <tr>\n",
       "      <th>1</th>\n",
       "      <td>2022</td>\n",
       "      <td>2</td>\n",
       "      <td>7.647.584</td>\n",
       "      <td>2.064.637</td>\n",
       "      <td>Abr-Jun 2022</td>\n",
       "    </tr>\n",
       "    <tr>\n",
       "      <th>2</th>\n",
       "      <td>2022</td>\n",
       "      <td>1</td>\n",
       "      <td>7.564.827</td>\n",
       "      <td>2.049.628</td>\n",
       "      <td>Ene-Mar 2022</td>\n",
       "    </tr>\n",
       "    <tr>\n",
       "      <th>3</th>\n",
       "      <td>2021</td>\n",
       "      <td>4</td>\n",
       "      <td>7.596.758</td>\n",
       "      <td>2.010.217</td>\n",
       "      <td>Oct-Dic 2021</td>\n",
       "    </tr>\n",
       "    <tr>\n",
       "      <th>4</th>\n",
       "      <td>2021</td>\n",
       "      <td>3</td>\n",
       "      <td>7.676.892</td>\n",
       "      <td>2.147.571</td>\n",
       "      <td>Jul-Sept 2021</td>\n",
       "    </tr>\n",
       "  </tbody>\n",
       "</table>\n",
       "</div>"
      ],
      "text/plain": [
       "    Año  Trimestre Accesos TV por suscripción Accesos TV satelital   \n",
       "0  2022          3                  7.665.931            2.064.699  \\\n",
       "1  2022          2                  7.647.584            2.064.637   \n",
       "2  2022          1                  7.564.827            2.049.628   \n",
       "3  2021          4                  7.596.758            2.010.217   \n",
       "4  2021          3                  7.676.892            2.147.571   \n",
       "\n",
       "         Periodo  \n",
       "0  Jul-Sept 2022  \n",
       "1   Abr-Jun 2022  \n",
       "2   Ene-Mar 2022  \n",
       "3   Oct-Dic 2021  \n",
       "4  Jul-Sept 2021  "
      ]
     },
     "execution_count": 61,
     "metadata": {},
     "output_type": "execute_result"
    }
   ],
   "source": [
    "tele_paga_dos.head()"
   ]
  },
  {
   "cell_type": "code",
   "execution_count": 62,
   "metadata": {},
   "outputs": [
    {
     "name": "stdout",
     "output_type": "stream",
     "text": [
      "<class 'pandas.core.frame.DataFrame'>\n",
      "RangeIndex: 34 entries, 0 to 33\n",
      "Data columns (total 5 columns):\n",
      " #   Column                      Non-Null Count  Dtype \n",
      "---  ------                      --------------  ----- \n",
      " 0   Año                         34 non-null     int64 \n",
      " 1   Trimestre                   34 non-null     int64 \n",
      " 2   Accesos TV por suscripción  34 non-null     object\n",
      " 3   Accesos TV satelital        34 non-null     object\n",
      " 4   Periodo                     34 non-null     object\n",
      "dtypes: int64(2), object(3)\n",
      "memory usage: 1.5+ KB\n"
     ]
    }
   ],
   "source": [
    "tele_paga_dos.info()"
   ]
  },
  {
   "attachments": {},
   "cell_type": "markdown",
   "metadata": {},
   "source": [
    "#### Archivo 3"
   ]
  },
  {
   "cell_type": "code",
   "execution_count": 64,
   "metadata": {},
   "outputs": [],
   "source": [
    "tele_paga_tres = pd.read_csv('/Volumes/KINGSTON/Henry/Proyecto 2/PI_DA/Datasets/Opcionales/Televisión de Paga/Television (2).csv')"
   ]
  },
  {
   "cell_type": "code",
   "execution_count": 65,
   "metadata": {},
   "outputs": [
    {
     "data": {
      "text/html": [
       "<div>\n",
       "<style scoped>\n",
       "    .dataframe tbody tr th:only-of-type {\n",
       "        vertical-align: middle;\n",
       "    }\n",
       "\n",
       "    .dataframe tbody tr th {\n",
       "        vertical-align: top;\n",
       "    }\n",
       "\n",
       "    .dataframe thead th {\n",
       "        text-align: right;\n",
       "    }\n",
       "</style>\n",
       "<table border=\"1\" class=\"dataframe\">\n",
       "  <thead>\n",
       "    <tr style=\"text-align: right;\">\n",
       "      <th></th>\n",
       "      <th>Año</th>\n",
       "      <th>Trimestre</th>\n",
       "      <th>Accesos TV por suscripción por cada 100 hab</th>\n",
       "      <th>Accesos TV satelital por cada 100 hab</th>\n",
       "      <th>Accesos TV por suscripción por cada 100 hogares</th>\n",
       "      <th>Accesos TV satelital por cada 100 hogares</th>\n",
       "    </tr>\n",
       "  </thead>\n",
       "  <tbody>\n",
       "    <tr>\n",
       "      <th>0</th>\n",
       "      <td>2022.0</td>\n",
       "      <td>3.0</td>\n",
       "      <td>16,56</td>\n",
       "      <td>4,46</td>\n",
       "      <td>52,97</td>\n",
       "      <td>14,27</td>\n",
       "    </tr>\n",
       "    <tr>\n",
       "      <th>1</th>\n",
       "      <td>2022.0</td>\n",
       "      <td>2.0</td>\n",
       "      <td>16,55</td>\n",
       "      <td>4,47</td>\n",
       "      <td>53,01</td>\n",
       "      <td>14,31</td>\n",
       "    </tr>\n",
       "    <tr>\n",
       "      <th>2</th>\n",
       "      <td>2022.0</td>\n",
       "      <td>1.0</td>\n",
       "      <td>16,41</td>\n",
       "      <td>4,45</td>\n",
       "      <td>52,61</td>\n",
       "      <td>14,25</td>\n",
       "    </tr>\n",
       "    <tr>\n",
       "      <th>3</th>\n",
       "      <td>2021.0</td>\n",
       "      <td>4.0</td>\n",
       "      <td>16,52</td>\n",
       "      <td>4,37</td>\n",
       "      <td>52,99</td>\n",
       "      <td>14,02</td>\n",
       "    </tr>\n",
       "    <tr>\n",
       "      <th>4</th>\n",
       "      <td>2021.0</td>\n",
       "      <td>3.0</td>\n",
       "      <td>16,73</td>\n",
       "      <td>4,68</td>\n",
       "      <td>53,72</td>\n",
       "      <td>15,03</td>\n",
       "    </tr>\n",
       "  </tbody>\n",
       "</table>\n",
       "</div>"
      ],
      "text/plain": [
       "      Año  Trimestre Accesos TV por suscripción por cada 100 hab   \n",
       "0  2022.0        3.0                                       16,56  \\\n",
       "1  2022.0        2.0                                       16,55   \n",
       "2  2022.0        1.0                                       16,41   \n",
       "3  2021.0        4.0                                       16,52   \n",
       "4  2021.0        3.0                                       16,73   \n",
       "\n",
       "  Accesos TV satelital por cada 100 hab   \n",
       "0                                  4,46  \\\n",
       "1                                  4,47   \n",
       "2                                  4,45   \n",
       "3                                  4,37   \n",
       "4                                  4,68   \n",
       "\n",
       "  Accesos TV por suscripción por cada 100 hogares   \n",
       "0                                           52,97  \\\n",
       "1                                           53,01   \n",
       "2                                           52,61   \n",
       "3                                           52,99   \n",
       "4                                           53,72   \n",
       "\n",
       "  Accesos TV satelital por cada 100 hogares  \n",
       "0                                     14,27  \n",
       "1                                     14,31  \n",
       "2                                     14,25  \n",
       "3                                     14,02  \n",
       "4                                     15,03  "
      ]
     },
     "execution_count": 65,
     "metadata": {},
     "output_type": "execute_result"
    }
   ],
   "source": [
    "tele_paga_tres.head()"
   ]
  },
  {
   "cell_type": "code",
   "execution_count": 66,
   "metadata": {},
   "outputs": [
    {
     "name": "stdout",
     "output_type": "stream",
     "text": [
      "<class 'pandas.core.frame.DataFrame'>\n",
      "RangeIndex: 36 entries, 0 to 35\n",
      "Data columns (total 6 columns):\n",
      " #   Column                                           Non-Null Count  Dtype  \n",
      "---  ------                                           --------------  -----  \n",
      " 0   Año                                              35 non-null     float64\n",
      " 1   Trimestre                                        35 non-null     float64\n",
      " 2   Accesos TV por suscripción por cada 100 hab      36 non-null     object \n",
      " 3   Accesos TV satelital por cada 100 hab            36 non-null     object \n",
      " 4   Accesos TV por suscripción por cada 100 hogares  36 non-null     object \n",
      " 5   Accesos TV satelital por cada 100 hogares        36 non-null     object \n",
      "dtypes: float64(2), object(4)\n",
      "memory usage: 1.8+ KB\n"
     ]
    }
   ],
   "source": [
    "tele_paga_tres.info()"
   ]
  },
  {
   "attachments": {},
   "cell_type": "markdown",
   "metadata": {},
   "source": [
    "#### Archivo 4"
   ]
  },
  {
   "cell_type": "code",
   "execution_count": 67,
   "metadata": {},
   "outputs": [],
   "source": [
    "tele_paga_cuatro = pd.read_csv('/Volumes/KINGSTON/Henry/Proyecto 2/PI_DA/Datasets/Opcionales/Televisión de Paga/Television (3).csv')\n"
   ]
  },
  {
   "cell_type": "code",
   "execution_count": 68,
   "metadata": {},
   "outputs": [
    {
     "data": {
      "text/html": [
       "<div>\n",
       "<style scoped>\n",
       "    .dataframe tbody tr th:only-of-type {\n",
       "        vertical-align: middle;\n",
       "    }\n",
       "\n",
       "    .dataframe tbody tr th {\n",
       "        vertical-align: top;\n",
       "    }\n",
       "\n",
       "    .dataframe thead th {\n",
       "        text-align: right;\n",
       "    }\n",
       "</style>\n",
       "<table border=\"1\" class=\"dataframe\">\n",
       "  <thead>\n",
       "    <tr style=\"text-align: right;\">\n",
       "      <th></th>\n",
       "      <th>Año</th>\n",
       "      <th>Trimestre</th>\n",
       "      <th>Provincia</th>\n",
       "      <th>Accesos TV por suscripción</th>\n",
       "    </tr>\n",
       "  </thead>\n",
       "  <tbody>\n",
       "    <tr>\n",
       "      <th>0</th>\n",
       "      <td>2022</td>\n",
       "      <td>3</td>\n",
       "      <td>Buenos Aires</td>\n",
       "      <td>2.998.021</td>\n",
       "    </tr>\n",
       "    <tr>\n",
       "      <th>1</th>\n",
       "      <td>2022</td>\n",
       "      <td>3</td>\n",
       "      <td>Capital Federal</td>\n",
       "      <td>743.338</td>\n",
       "    </tr>\n",
       "    <tr>\n",
       "      <th>2</th>\n",
       "      <td>2022</td>\n",
       "      <td>3</td>\n",
       "      <td>Catamarca</td>\n",
       "      <td>52.274</td>\n",
       "    </tr>\n",
       "    <tr>\n",
       "      <th>3</th>\n",
       "      <td>2022</td>\n",
       "      <td>3</td>\n",
       "      <td>Chaco</td>\n",
       "      <td>121.771</td>\n",
       "    </tr>\n",
       "    <tr>\n",
       "      <th>4</th>\n",
       "      <td>2022</td>\n",
       "      <td>3</td>\n",
       "      <td>Chubut</td>\n",
       "      <td>80.020</td>\n",
       "    </tr>\n",
       "  </tbody>\n",
       "</table>\n",
       "</div>"
      ],
      "text/plain": [
       "    Año  Trimestre        Provincia Accesos TV por suscripción\n",
       "0  2022          3     Buenos Aires                  2.998.021\n",
       "1  2022          3  Capital Federal                    743.338\n",
       "2  2022          3        Catamarca                     52.274\n",
       "3  2022          3            Chaco                    121.771\n",
       "4  2022          3           Chubut                     80.020"
      ]
     },
     "execution_count": 68,
     "metadata": {},
     "output_type": "execute_result"
    }
   ],
   "source": [
    "tele_paga_cuatro.head()"
   ]
  },
  {
   "cell_type": "code",
   "execution_count": 69,
   "metadata": {},
   "outputs": [
    {
     "name": "stdout",
     "output_type": "stream",
     "text": [
      "<class 'pandas.core.frame.DataFrame'>\n",
      "RangeIndex: 840 entries, 0 to 839\n",
      "Data columns (total 4 columns):\n",
      " #   Column                      Non-Null Count  Dtype \n",
      "---  ------                      --------------  ----- \n",
      " 0   Año                         840 non-null    int64 \n",
      " 1   Trimestre                   840 non-null    int64 \n",
      " 2   Provincia                   840 non-null    object\n",
      " 3   Accesos TV por suscripción  840 non-null    object\n",
      "dtypes: int64(2), object(2)\n",
      "memory usage: 26.4+ KB\n"
     ]
    }
   ],
   "source": [
    "tele_paga_cuatro.info()"
   ]
  },
  {
   "attachments": {},
   "cell_type": "markdown",
   "metadata": {},
   "source": [
    "#### Archivo 5"
   ]
  },
  {
   "cell_type": "code",
   "execution_count": 70,
   "metadata": {},
   "outputs": [],
   "source": [
    "tele_paga_cinco = pd.read_csv('/Volumes/KINGSTON/Henry/Proyecto 2/PI_DA/Datasets/Opcionales/Televisión de Paga/Television (4).csv')"
   ]
  },
  {
   "cell_type": "code",
   "execution_count": 71,
   "metadata": {},
   "outputs": [
    {
     "data": {
      "text/html": [
       "<div>\n",
       "<style scoped>\n",
       "    .dataframe tbody tr th:only-of-type {\n",
       "        vertical-align: middle;\n",
       "    }\n",
       "\n",
       "    .dataframe tbody tr th {\n",
       "        vertical-align: top;\n",
       "    }\n",
       "\n",
       "    .dataframe thead th {\n",
       "        text-align: right;\n",
       "    }\n",
       "</style>\n",
       "<table border=\"1\" class=\"dataframe\">\n",
       "  <thead>\n",
       "    <tr style=\"text-align: right;\">\n",
       "      <th></th>\n",
       "      <th>Año</th>\n",
       "      <th>Trimestre</th>\n",
       "      <th>Ingresos TV por suscripción  (miles de $)</th>\n",
       "      <th>Ingresos TV satelital (miles de $)</th>\n",
       "    </tr>\n",
       "  </thead>\n",
       "  <tbody>\n",
       "    <tr>\n",
       "      <th>0</th>\n",
       "      <td>2022</td>\n",
       "      <td>3</td>\n",
       "      <td>$ 52.242.784,63</td>\n",
       "      <td>$ 27.073.190,89</td>\n",
       "    </tr>\n",
       "    <tr>\n",
       "      <th>1</th>\n",
       "      <td>2022</td>\n",
       "      <td>2</td>\n",
       "      <td>$ 46.292.673,44</td>\n",
       "      <td>$ 23.559.484,83</td>\n",
       "    </tr>\n",
       "    <tr>\n",
       "      <th>2</th>\n",
       "      <td>2022</td>\n",
       "      <td>1</td>\n",
       "      <td>$ 42.093.870,19</td>\n",
       "      <td>$ 21.268.086,24</td>\n",
       "    </tr>\n",
       "    <tr>\n",
       "      <th>3</th>\n",
       "      <td>2021</td>\n",
       "      <td>4</td>\n",
       "      <td>$ 38.273.391,8</td>\n",
       "      <td>$ 18.038.065,44</td>\n",
       "    </tr>\n",
       "    <tr>\n",
       "      <th>4</th>\n",
       "      <td>2021</td>\n",
       "      <td>3</td>\n",
       "      <td>$ 36.398.025,53</td>\n",
       "      <td>$ 18.039.519,5</td>\n",
       "    </tr>\n",
       "  </tbody>\n",
       "</table>\n",
       "</div>"
      ],
      "text/plain": [
       "    Año  Trimestre Ingresos TV por suscripción  (miles de $)   \n",
       "0  2022          3                           $ 52.242.784,63  \\\n",
       "1  2022          2                           $ 46.292.673,44   \n",
       "2  2022          1                           $ 42.093.870,19   \n",
       "3  2021          4                            $ 38.273.391,8   \n",
       "4  2021          3                           $ 36.398.025,53   \n",
       "\n",
       "  Ingresos TV satelital (miles de $)  \n",
       "0                    $ 27.073.190,89  \n",
       "1                    $ 23.559.484,83  \n",
       "2                    $ 21.268.086,24  \n",
       "3                    $ 18.038.065,44  \n",
       "4                     $ 18.039.519,5  "
      ]
     },
     "execution_count": 71,
     "metadata": {},
     "output_type": "execute_result"
    }
   ],
   "source": [
    "tele_paga_cinco.head()"
   ]
  },
  {
   "cell_type": "code",
   "execution_count": 72,
   "metadata": {},
   "outputs": [
    {
     "name": "stdout",
     "output_type": "stream",
     "text": [
      "<class 'pandas.core.frame.DataFrame'>\n",
      "RangeIndex: 35 entries, 0 to 34\n",
      "Data columns (total 4 columns):\n",
      " #   Column                                     Non-Null Count  Dtype \n",
      "---  ------                                     --------------  ----- \n",
      " 0   Año                                        35 non-null     int64 \n",
      " 1   Trimestre                                  35 non-null     int64 \n",
      " 2   Ingresos TV por suscripción  (miles de $)  35 non-null     object\n",
      " 3   Ingresos TV satelital (miles de $)         35 non-null     object\n",
      "dtypes: int64(2), object(2)\n",
      "memory usage: 1.2+ KB\n"
     ]
    }
   ],
   "source": [
    "tele_paga_cinco.info()"
   ]
  }
 ],
 "metadata": {
  "kernelspec": {
   "display_name": "Python 3",
   "language": "python",
   "name": "python3"
  },
  "language_info": {
   "codemirror_mode": {
    "name": "ipython",
    "version": 3
   },
   "file_extension": ".py",
   "mimetype": "text/x-python",
   "name": "python",
   "nbconvert_exporter": "python",
   "pygments_lexer": "ipython3",
   "version": "3.10.11"
  },
  "orig_nbformat": 4
 },
 "nbformat": 4,
 "nbformat_minor": 2
}
